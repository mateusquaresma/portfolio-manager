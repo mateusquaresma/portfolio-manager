{
 "cells": [
  {
   "cell_type": "code",
   "execution_count": 1,
   "metadata": {},
   "outputs": [
    {
     "name": "stderr",
     "output_type": "stream",
     "text": [
      "/usr/local/anaconda3/lib/python3.6/site-packages/psycopg2/__init__.py:144: UserWarning: The psycopg2 wheel package will be renamed from release 2.8; in order to keep installing from binary please use \"pip install psycopg2-binary\" instead. For details see: <http://initd.org/psycopg/docs/install.html#binary-install-from-pypi>.\n",
      "  \"\"\")\n"
     ]
    }
   ],
   "source": [
    "import numpy as np\n",
    "import pandas as pd\n",
    "from scipy.optimize import minimize\n",
    "import matplotlib.pyplot as plt\n",
    "import heapq\n",
    "import psycopg2\n",
    "from sklearn.preprocessing import StandardScaler\n",
    "from sklearn.preprocessing import MinMaxScaler"
   ]
  },
  {
   "cell_type": "code",
   "execution_count": 2,
   "metadata": {},
   "outputs": [],
   "source": [
    "# query = \"select * from crosstab ( 'select dq.event_date, c.label, dq.close_value from company c left join daily_quote dq on c.id = dq.company_id where ibovespa_plus = true and (now() - dq.event_date) <= interval ''3 months'' order by 1, 2', 'select c.label from company c where ibovespa_plus = true order by 1') as ct ( event_date date, \\\"ABCB4\\\" numeric, \\\"ABEV3\\\" numeric, \\\"BBAS3\\\" numeric, \\\"BBDC3\\\" numeric, \\\"BBDC4\\\" numeric, \\\"BBSE3\\\" numeric, \\\"BRAP4\\\" numeric, \\\"BRFS3\\\" numeric, \\\"BRKM5\\\" numeric, \\\"BRML3\\\" numeric, \\\"BRSR6\\\" numeric, \\\"BTOW3\\\" numeric, \\\"CARD3\\\" numeric, \\\"CCRO3\\\" numeric, \\\"CIEL3\\\" numeric, \\\"CMIG4\\\" numeric, \\\"CPLE6\\\" numeric, \\\"CSAN3\\\" numeric, \\\"CSNA3\\\" numeric, \\\"CVCB3\\\" numeric, \\\"CYRE3\\\" numeric, \\\"ECOR3\\\" numeric, \\\"EGIE3\\\" numeric, \\\"ELET3\\\" numeric, \\\"ELET6\\\" numeric, \\\"EMBR3\\\" numeric, \\\"ENBR3\\\" numeric, \\\"EQTL3\\\" numeric, \\\"ESTC3\\\" numeric, \\\"FESA4\\\" numeric, \\\"FIBR3\\\" numeric, \\\"FLRY3\\\" numeric, \\\"FRAS3\\\" numeric, \\\"GGBR4\\\" numeric, \\\"GOAU4\\\" numeric, \\\"GOLL4\\\" numeric, \\\"GRND3\\\" numeric, \\\"HYPE3\\\" numeric, \\\"IGTA3\\\" numeric, \\\"ITSA3\\\" numeric, \\\"ITSA4\\\" numeric, \\\"ITUB3\\\" numeric, \\\"ITUB4\\\" numeric, \\\"JBSS3\\\" numeric, \\\"KLBN11\\\" numeric, \\\"KROT3\\\" numeric, \\\"LAME4\\\" numeric, \\\"LREN3\\\" numeric, \\\"MGLU3\\\" numeric, \\\"MPLU3\\\" numeric, \\\"MRFG3\\\" numeric, \\\"MRVE3\\\" numeric, \\\"MULT3\\\" numeric, \\\"NATU3\\\" numeric, \\\"PCAR4\\\" numeric, \\\"PETR3\\\" numeric, \\\"PETR4\\\" numeric, \\\"PSSA3\\\" numeric, \\\"PTBL3\\\" numeric, \\\"QUAL3\\\" numeric, \\\"RADL3\\\" numeric, \\\"RAIL3\\\" numeric, \\\"RENT3\\\" numeric, \\\"SANB11\\\" numeric, \\\"SANB4\\\" numeric, \\\"SAPR3\\\" numeric, \\\"SAPR4\\\" numeric, \\\"SBSP3\\\" numeric, \\\"SMLS3\\\" numeric, \\\"SMTO3\\\" numeric, \\\"SULA11\\\" numeric, \\\"SUZB3\\\" numeric, \\\"TAEE11\\\" numeric, \\\"TIMP3\\\" numeric, \\\"TRPL4\\\" numeric, \\\"UGPA3\\\" numeric, \\\"UNIP3\\\" numeric, \\\"UNIP6\\\" numeric, \\\"USIM5\\\" numeric, \\\"VALE3\\\" numeric, \\\"VIVT4\\\" numeric, \\\"VVAR3\\\" numeric, \\\"WEGE3\\\" numeric);\""
   ]
  },
  {
   "cell_type": "code",
   "execution_count": 3,
   "metadata": {},
   "outputs": [],
   "source": [
    "query = \"\"\" \n",
    "    select dq.event_date, c.label, dq.close_value\n",
    "    from company c\n",
    "    inner join daily_quote dq on c.id = dq.company_id\n",
    "    where ibovespa = true \n",
    "    and (now() - dq.event_date) <= interval '2 months'\n",
    "    order by dq.event_date, c.label;\"\"\""
   ]
  },
  {
   "cell_type": "code",
   "execution_count": 4,
   "metadata": {},
   "outputs": [],
   "source": [
    "conn = psycopg2.connect(\n",
    "            database=\"postgres\",\n",
    "            user=\"postgres\",\n",
    "            connect_timeout=3,\n",
    "            options='-c statement_timeout=3000')\n",
    "raw_df = pd.read_sql(query, conn)\n",
    "# df.drop('event_date', axis=1, inplace=True)\n",
    "conn.close()"
   ]
  },
  {
   "cell_type": "code",
   "execution_count": 5,
   "metadata": {},
   "outputs": [],
   "source": [
    "raw_df.columns = ['Data', 'Sigla', 'Valor_de_Fechamento']\n",
    "raw_df.set_index(['Data', 'Sigla'], inplace=True)"
   ]
  },
  {
   "cell_type": "code",
   "execution_count": 20,
   "metadata": {},
   "outputs": [],
   "source": [
    "df_0 = (raw_df.unstack()\n",
    "          .replace({0: np.NaN})\n",
    "          .fillna(method='ffill')\n",
    "           .dropna(how='any', axis=1))\n",
    "df = df_0.copy()\n",
    "df.head()\n",
    "raw_df.to_csv('data/sample_data.csv')"
   ]
  },
  {
   "cell_type": "code",
   "execution_count": 7,
   "metadata": {},
   "outputs": [],
   "source": [
    "# df.dropna(axis=1, how='all', inplace=True)\n",
    "# df.dropna(axis=0, how='any', inplace=True)\n",
    "# df.fillna(axis=1, value=0, inplace=True)"
   ]
  },
  {
   "cell_type": "code",
   "execution_count": 8,
   "metadata": {},
   "outputs": [],
   "source": [
    "# scaler = StandardScaler()\n",
    "scaler = MinMaxScaler(feature_range=(0, 1))\n",
    "df[df.columns] = scaler.fit_transform(df[df.columns])\n",
    "#df.head()"
   ]
  },
  {
   "cell_type": "code",
   "execution_count": 9,
   "metadata": {},
   "outputs": [],
   "source": [
    "# series = df.mean()\n",
    "# series2 = series[series > 0]\n",
    "# series2"
   ]
  },
  {
   "cell_type": "code",
   "execution_count": 10,
   "metadata": {},
   "outputs": [],
   "source": [
    "means = np.mean(df)\n",
    "# print(means)\n",
    "# variances = np.var(df)\n",
    "# print(variances)\n",
    "covariance_matrix = np.cov(df, rowvar=False)\n",
    "# print(covariance_matrix)"
   ]
  },
  {
   "cell_type": "code",
   "execution_count": 11,
   "metadata": {},
   "outputs": [],
   "source": [
    "def risk_profit(a):\n",
    "    return np.sqrt(np.dot(np.dot(a, covariance_matrix), a)), np.sum(np.multiply(a, means))"
   ]
  },
  {
   "cell_type": "markdown",
   "metadata": {},
   "source": [
    "### Função multi-objetivo\n",
    "A função f tentará minimizar a variancia da carteira e maximizar o seu retorno"
   ]
  },
  {
   "cell_type": "code",
   "execution_count": 12,
   "metadata": {},
   "outputs": [],
   "source": [
    "def f(x):\n",
    "    return np.dot(np.dot(x, covariance_matrix), x) / np.sum(np.multiply(x, means))"
   ]
  },
  {
   "cell_type": "code",
   "execution_count": 18,
   "metadata": {},
   "outputs": [
    {
     "name": "stdout",
     "output_type": "stream",
     "text": [
      "Optimization terminated successfully.    (Exit mode 0)\n",
      "            Current function value: 6.816685650444981e-06\n",
      "            Iterations: 47\n",
      "            Function evaluations: 2964\n",
      "            Gradient evaluations: 47\n"
     ]
    }
   ],
   "source": [
    "cons = [{'type': 'eq', 'fun': lambda x: np.sum(x) - 1.0}]\n",
    "n = df.shape[1]\n",
    "x0 = np.full(n, 1 / n)\n",
    "result = minimize(f, x0, constraints=cons, method='SLSQP', options={'disp': 'True', 'maxiter': 150})\n",
    "# result = minimize(f, x0, method='Powell', options={'disp': 'True', 'maxiter': 100})"
   ]
  },
  {
   "cell_type": "markdown",
   "metadata": {},
   "source": [
    "### Representação visual da carteira otimizada!"
   ]
  },
  {
   "cell_type": "code",
   "execution_count": 14,
   "metadata": {},
   "outputs": [
    {
     "name": "stdout",
     "output_type": "stream",
     "text": [
      "risk=0.0017562203777131025, profit=0.45246475681233944\n"
     ]
    },
    {
     "data": {
      "image/png": "[encoded data removed]",
      "text/plain": [
       "<Figure size 432x288 with 1 Axes>"
      ]
     },
     "metadata": {},
     "output_type": "display_data"
    },
    {
     "name": "stdout",
     "output_type": "stream",
     "text": [
      "[0.1911961085754964, 0.16125005268448098, 0.15969706323775196, 0.15684284337934992, 0.1562982306442664, 0.12849574665051966, 0.11456355750963841, 0.1109338494462912, 0.10627007750075465, 0.10128861665451146]\n",
      "['VVAR3', 'CYRE3', 'RADL3', 'SBSP3', 'BRKM5', 'EGIE3', 'BBDC4', 'BBDC3', 'FIBR3', 'BBAS3']\n"
     ]
    }
   ],
   "source": [
    "optimal_values = []\n",
    "optimized = result.success\n",
    "if optimized:\n",
    "    risk, profit = risk_profit(result.x)\n",
    "    #print(result.x)\n",
    "    print(\"risk=%s, profit=%s\" % (risk, profit))\n",
    "    \n",
    "    optimal_values = result.x\n",
    "\n",
    "#     for k, v in enumerate(optimal_values):\n",
    "#         print('k = %s, v = %s' % (k, v))\n",
    "    nlargest = heapq.nlargest(10, enumerate(optimal_values), key=lambda x: x[1])\n",
    "    nlargest_indexes = [i for (i, j) in nlargest]\n",
    "    nlargest_values = [j for (i, j) in nlargest]\n",
    "    labels = [label for (_, label) in df.columns[nlargest_indexes].values]\n",
    "    fig1, ax1 = plt.subplots()\n",
    "    ax1.pie(nlargest_values, labels=labels, shadow=True, autopct='%1.0f%%')\n",
    "    ax1.axis('equal')\n",
    "    plt.show()\n",
    "    print(nlargest_values)\n",
    "    print(labels)\n",
    "else:\n",
    "    print('FUNCTION COULD NOT BE OPTIMIZED!')"
   ]
  },
  {
   "cell_type": "code",
   "execution_count": 15,
   "metadata": {},
   "outputs": [],
   "source": [
    "# [(13, 'CYRE3'), (13, 'BRKM5'), (12, 'RADL3'), (11, 'VVAR3'), (9, 'BBDC3'), (9, 'SBSP3'), (9, 'KROT3'), (8, 'EGIE3')\n",
    "# (8, 'ENBR3'), (8, 'NATU3')]"
   ]
  },
  {
   "cell_type": "code",
   "execution_count": 16,
   "metadata": {},
   "outputs": [
    {
     "data": {
      "text/html": [
       "<div>\n",
       "<style scoped>\n",
       "    .dataframe tbody tr th:only-of-type {\n",
       "        vertical-align: middle;\n",
       "    }\n",
       "\n",
       "    .dataframe tbody tr th {\n",
       "        vertical-align: top;\n",
       "    }\n",
       "\n",
       "    .dataframe thead tr th {\n",
       "        text-align: left;\n",
       "    }\n",
       "\n",
       "    .dataframe thead tr:last-of-type th {\n",
       "        text-align: right;\n",
       "    }\n",
       "</style>\n",
       "<table border=\"1\" class=\"dataframe\">\n",
       "  <thead>\n",
       "    <tr>\n",
       "      <th></th>\n",
       "      <th colspan=\"21\" halign=\"left\">Valor_de_Fechamento</th>\n",
       "    </tr>\n",
       "    <tr>\n",
       "      <th>Sigla</th>\n",
       "      <th>ABEV3</th>\n",
       "      <th>BBAS3</th>\n",
       "      <th>BBDC3</th>\n",
       "      <th>BBDC4</th>\n",
       "      <th>BBSE3</th>\n",
       "      <th>BRAP4</th>\n",
       "      <th>BRFS3</th>\n",
       "      <th>BRKM5</th>\n",
       "      <th>BRML3</th>\n",
       "      <th>BTOW3</th>\n",
       "      <th>...</th>\n",
       "      <th>SBSP3</th>\n",
       "      <th>SMLS3</th>\n",
       "      <th>SUZB3</th>\n",
       "      <th>TIMP3</th>\n",
       "      <th>UGPA3</th>\n",
       "      <th>USIM5</th>\n",
       "      <th>VALE3</th>\n",
       "      <th>VIVT4</th>\n",
       "      <th>VVAR3</th>\n",
       "      <th>WEGE3</th>\n",
       "    </tr>\n",
       "    <tr>\n",
       "      <th>Data</th>\n",
       "      <th></th>\n",
       "      <th></th>\n",
       "      <th></th>\n",
       "      <th></th>\n",
       "      <th></th>\n",
       "      <th></th>\n",
       "      <th></th>\n",
       "      <th></th>\n",
       "      <th></th>\n",
       "      <th></th>\n",
       "      <th></th>\n",
       "      <th></th>\n",
       "      <th></th>\n",
       "      <th></th>\n",
       "      <th></th>\n",
       "      <th></th>\n",
       "      <th></th>\n",
       "      <th></th>\n",
       "      <th></th>\n",
       "      <th></th>\n",
       "      <th></th>\n",
       "    </tr>\n",
       "  </thead>\n",
       "  <tbody>\n",
       "    <tr>\n",
       "      <th>2019-01-03</th>\n",
       "      <td>16.33</td>\n",
       "      <td>48.80</td>\n",
       "      <td>36.50</td>\n",
       "      <td>40.78</td>\n",
       "      <td>28.63</td>\n",
       "      <td>29.90</td>\n",
       "      <td>21.49</td>\n",
       "      <td>48.60</td>\n",
       "      <td>13.55</td>\n",
       "      <td>43.44</td>\n",
       "      <td>...</td>\n",
       "      <td>37.02</td>\n",
       "      <td>44.00</td>\n",
       "      <td>36.95</td>\n",
       "      <td>11.92</td>\n",
       "      <td>53.33</td>\n",
       "      <td>9.55</td>\n",
       "      <td>49.00</td>\n",
       "      <td>47.60</td>\n",
       "      <td>4.31</td>\n",
       "      <td>18.39</td>\n",
       "    </tr>\n",
       "    <tr>\n",
       "      <th>2019-01-04</th>\n",
       "      <td>16.55</td>\n",
       "      <td>48.80</td>\n",
       "      <td>36.21</td>\n",
       "      <td>40.46</td>\n",
       "      <td>28.35</td>\n",
       "      <td>31.92</td>\n",
       "      <td>21.45</td>\n",
       "      <td>48.06</td>\n",
       "      <td>13.29</td>\n",
       "      <td>42.00</td>\n",
       "      <td>...</td>\n",
       "      <td>37.86</td>\n",
       "      <td>43.96</td>\n",
       "      <td>37.64</td>\n",
       "      <td>11.98</td>\n",
       "      <td>52.97</td>\n",
       "      <td>10.11</td>\n",
       "      <td>52.19</td>\n",
       "      <td>47.50</td>\n",
       "      <td>4.27</td>\n",
       "      <td>18.60</td>\n",
       "    </tr>\n",
       "    <tr>\n",
       "      <th>2019-01-07</th>\n",
       "      <td>16.48</td>\n",
       "      <td>48.48</td>\n",
       "      <td>36.00</td>\n",
       "      <td>40.94</td>\n",
       "      <td>27.93</td>\n",
       "      <td>32.17</td>\n",
       "      <td>21.59</td>\n",
       "      <td>47.72</td>\n",
       "      <td>13.21</td>\n",
       "      <td>40.14</td>\n",
       "      <td>...</td>\n",
       "      <td>37.00</td>\n",
       "      <td>42.26</td>\n",
       "      <td>35.85</td>\n",
       "      <td>12.37</td>\n",
       "      <td>51.35</td>\n",
       "      <td>10.13</td>\n",
       "      <td>51.91</td>\n",
       "      <td>47.90</td>\n",
       "      <td>4.24</td>\n",
       "      <td>18.31</td>\n",
       "    </tr>\n",
       "    <tr>\n",
       "      <th>2019-01-08</th>\n",
       "      <td>16.15</td>\n",
       "      <td>47.93</td>\n",
       "      <td>36.40</td>\n",
       "      <td>41.19</td>\n",
       "      <td>27.52</td>\n",
       "      <td>31.94</td>\n",
       "      <td>22.93</td>\n",
       "      <td>47.69</td>\n",
       "      <td>13.23</td>\n",
       "      <td>42.00</td>\n",
       "      <td>...</td>\n",
       "      <td>37.14</td>\n",
       "      <td>41.87</td>\n",
       "      <td>36.20</td>\n",
       "      <td>12.84</td>\n",
       "      <td>50.50</td>\n",
       "      <td>9.77</td>\n",
       "      <td>52.41</td>\n",
       "      <td>48.01</td>\n",
       "      <td>4.04</td>\n",
       "      <td>18.16</td>\n",
       "    </tr>\n",
       "    <tr>\n",
       "      <th>2019-01-09</th>\n",
       "      <td>16.15</td>\n",
       "      <td>47.80</td>\n",
       "      <td>37.16</td>\n",
       "      <td>41.90</td>\n",
       "      <td>27.52</td>\n",
       "      <td>32.80</td>\n",
       "      <td>22.93</td>\n",
       "      <td>48.01</td>\n",
       "      <td>13.23</td>\n",
       "      <td>42.00</td>\n",
       "      <td>...</td>\n",
       "      <td>37.60</td>\n",
       "      <td>41.60</td>\n",
       "      <td>38.37</td>\n",
       "      <td>12.84</td>\n",
       "      <td>52.12</td>\n",
       "      <td>10.09</td>\n",
       "      <td>52.41</td>\n",
       "      <td>48.01</td>\n",
       "      <td>4.01</td>\n",
       "      <td>18.16</td>\n",
       "    </tr>\n",
       "  </tbody>\n",
       "</table>\n",
       "<p>5 rows × 61 columns</p>\n",
       "</div>"
      ],
      "text/plain": [
       "           Valor_de_Fechamento                                            \\\n",
       "Sigla                    ABEV3  BBAS3  BBDC3  BBDC4  BBSE3  BRAP4  BRFS3   \n",
       "Data                                                                       \n",
       "2019-01-03               16.33  48.80  36.50  40.78  28.63  29.90  21.49   \n",
       "2019-01-04               16.55  48.80  36.21  40.46  28.35  31.92  21.45   \n",
       "2019-01-07               16.48  48.48  36.00  40.94  27.93  32.17  21.59   \n",
       "2019-01-08               16.15  47.93  36.40  41.19  27.52  31.94  22.93   \n",
       "2019-01-09               16.15  47.80  37.16  41.90  27.52  32.80  22.93   \n",
       "\n",
       "                                 ...                                       \\\n",
       "Sigla       BRKM5  BRML3  BTOW3  ...    SBSP3  SMLS3  SUZB3  TIMP3  UGPA3   \n",
       "Data                             ...                                        \n",
       "2019-01-03  48.60  13.55  43.44  ...    37.02  44.00  36.95  11.92  53.33   \n",
       "2019-01-04  48.06  13.29  42.00  ...    37.86  43.96  37.64  11.98  52.97   \n",
       "2019-01-07  47.72  13.21  40.14  ...    37.00  42.26  35.85  12.37  51.35   \n",
       "2019-01-08  47.69  13.23  42.00  ...    37.14  41.87  36.20  12.84  50.50   \n",
       "2019-01-09  48.01  13.23  42.00  ...    37.60  41.60  38.37  12.84  52.12   \n",
       "\n",
       "                                              \n",
       "Sigla       USIM5  VALE3  VIVT4 VVAR3  WEGE3  \n",
       "Data                                          \n",
       "2019-01-03   9.55  49.00  47.60  4.31  18.39  \n",
       "2019-01-04  10.11  52.19  47.50  4.27  18.60  \n",
       "2019-01-07  10.13  51.91  47.90  4.24  18.31  \n",
       "2019-01-08   9.77  52.41  48.01  4.04  18.16  \n",
       "2019-01-09  10.09  52.41  48.01  4.01  18.16  \n",
       "\n",
       "[5 rows x 61 columns]"
      ]
     },
     "execution_count": 16,
     "metadata": {},
     "output_type": "execute_result"
    }
   ],
   "source": []
  },
  {
   "cell_type": "code",
   "execution_count": null,
   "metadata": {},
   "outputs": [],
   "source": []
  }
 ],
 "metadata": {
  "kernelspec": {
   "display_name": "Python 3",
   "language": "python",
   "name": "python3"
  },
  "language_info": {
   "codemirror_mode": {
    "name": "ipython",
    "version": 3
   },
   "file_extension": ".py",
   "mimetype": "text/x-python",
   "name": "python",
   "nbconvert_exporter": "python",
   "pygments_lexer": "ipython3",
   "version": "3.6.5"
  }
 },
 "nbformat": 4,
 "nbformat_minor": 2
}
