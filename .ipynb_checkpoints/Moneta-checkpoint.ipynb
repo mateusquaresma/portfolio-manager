{
 "cells": [
  {
   "cell_type": "code",
   "execution_count": 1,
   "metadata": {},
   "outputs": [
    {
     "name": "stderr",
     "output_type": "stream",
     "text": [
      "/usr/local/anaconda3/lib/python3.6/site-packages/psycopg2/__init__.py:144: UserWarning: The psycopg2 wheel package will be renamed from release 2.8; in order to keep installing from binary please use \"pip install psycopg2-binary\" instead. For details see: <http://initd.org/psycopg/docs/install.html#binary-install-from-pypi>.\n",
      "  \"\"\")\n"
     ]
    }
   ],
   "source": [
    "import numpy as np\n",
    "import pandas as pd\n",
    "from scipy.optimize import minimize\n",
    "import matplotlib.pyplot as plt\n",
    "import heapq\n",
    "import psycopg2\n",
    "from sklearn.preprocessing import StandardScaler\n",
    "from sklearn.preprocessing import MinMaxScaler"
   ]
  },
  {
   "cell_type": "code",
   "execution_count": 2,
   "metadata": {},
   "outputs": [],
   "source": [
    "# query = \"select * from crosstab ( 'select dq.event_date, c.label, dq.close_value from company c left join daily_quote dq on c.id = dq.company_id where ibovespa_plus = true and (now() - dq.event_date) <= interval ''3 months'' order by 1, 2', 'select c.label from company c where ibovespa_plus = true order by 1') as ct ( event_date date, \\\"ABCB4\\\" numeric, \\\"ABEV3\\\" numeric, \\\"BBAS3\\\" numeric, \\\"BBDC3\\\" numeric, \\\"BBDC4\\\" numeric, \\\"BBSE3\\\" numeric, \\\"BRAP4\\\" numeric, \\\"BRFS3\\\" numeric, \\\"BRKM5\\\" numeric, \\\"BRML3\\\" numeric, \\\"BRSR6\\\" numeric, \\\"BTOW3\\\" numeric, \\\"CARD3\\\" numeric, \\\"CCRO3\\\" numeric, \\\"CIEL3\\\" numeric, \\\"CMIG4\\\" numeric, \\\"CPLE6\\\" numeric, \\\"CSAN3\\\" numeric, \\\"CSNA3\\\" numeric, \\\"CVCB3\\\" numeric, \\\"CYRE3\\\" numeric, \\\"ECOR3\\\" numeric, \\\"EGIE3\\\" numeric, \\\"ELET3\\\" numeric, \\\"ELET6\\\" numeric, \\\"EMBR3\\\" numeric, \\\"ENBR3\\\" numeric, \\\"EQTL3\\\" numeric, \\\"ESTC3\\\" numeric, \\\"FESA4\\\" numeric, \\\"FIBR3\\\" numeric, \\\"FLRY3\\\" numeric, \\\"FRAS3\\\" numeric, \\\"GGBR4\\\" numeric, \\\"GOAU4\\\" numeric, \\\"GOLL4\\\" numeric, \\\"GRND3\\\" numeric, \\\"HYPE3\\\" numeric, \\\"IGTA3\\\" numeric, \\\"ITSA3\\\" numeric, \\\"ITSA4\\\" numeric, \\\"ITUB3\\\" numeric, \\\"ITUB4\\\" numeric, \\\"JBSS3\\\" numeric, \\\"KLBN11\\\" numeric, \\\"KROT3\\\" numeric, \\\"LAME4\\\" numeric, \\\"LREN3\\\" numeric, \\\"MGLU3\\\" numeric, \\\"MPLU3\\\" numeric, \\\"MRFG3\\\" numeric, \\\"MRVE3\\\" numeric, \\\"MULT3\\\" numeric, \\\"NATU3\\\" numeric, \\\"PCAR4\\\" numeric, \\\"PETR3\\\" numeric, \\\"PETR4\\\" numeric, \\\"PSSA3\\\" numeric, \\\"PTBL3\\\" numeric, \\\"QUAL3\\\" numeric, \\\"RADL3\\\" numeric, \\\"RAIL3\\\" numeric, \\\"RENT3\\\" numeric, \\\"SANB11\\\" numeric, \\\"SANB4\\\" numeric, \\\"SAPR3\\\" numeric, \\\"SAPR4\\\" numeric, \\\"SBSP3\\\" numeric, \\\"SMLS3\\\" numeric, \\\"SMTO3\\\" numeric, \\\"SULA11\\\" numeric, \\\"SUZB3\\\" numeric, \\\"TAEE11\\\" numeric, \\\"TIMP3\\\" numeric, \\\"TRPL4\\\" numeric, \\\"UGPA3\\\" numeric, \\\"UNIP3\\\" numeric, \\\"UNIP6\\\" numeric, \\\"USIM5\\\" numeric, \\\"VALE3\\\" numeric, \\\"VIVT4\\\" numeric, \\\"VVAR3\\\" numeric, \\\"WEGE3\\\" numeric);\""
   ]
  },
  {
   "cell_type": "code",
   "execution_count": 3,
   "metadata": {},
   "outputs": [],
   "source": [
    "query = \"\"\" \n",
    "    select dq.event_date, c.label, dq.close_value\n",
    "    from company c\n",
    "    inner join daily_quote dq on c.id = dq.company_id\n",
    "    where alpha_6 = true \n",
    "    and (now() - dq.event_date) <= interval '4 months'\n",
    "    order by dq.event_date, c.label;\"\"\""
   ]
  },
  {
   "cell_type": "code",
   "execution_count": 4,
   "metadata": {},
   "outputs": [],
   "source": [
    "conn = psycopg2.connect(\n",
    "            database=\"postgres\",\n",
    "            user=\"postgres\",\n",
    "            connect_timeout=3,\n",
    "            options='-c statement_timeout=3000')\n",
    "raw_df = pd.read_sql(query, conn)\n",
    "# df.drop('event_date', axis=1, inplace=True)\n",
    "conn.close()"
   ]
  },
  {
   "cell_type": "code",
   "execution_count": 5,
   "metadata": {},
   "outputs": [],
   "source": [
    "raw_df.columns = ['Data', 'Sigla', 'Valor_de_Fechamento']\n",
    "raw_df.set_index(['Data', 'Sigla'], inplace=True)"
   ]
  },
  {
   "cell_type": "code",
   "execution_count": 6,
   "metadata": {},
   "outputs": [
    {
     "data": {
      "text/html": [
       "<div>\n",
       "<style scoped>\n",
       "    .dataframe tbody tr th:only-of-type {\n",
       "        vertical-align: middle;\n",
       "    }\n",
       "\n",
       "    .dataframe tbody tr th {\n",
       "        vertical-align: top;\n",
       "    }\n",
       "\n",
       "    .dataframe thead tr th {\n",
       "        text-align: left;\n",
       "    }\n",
       "\n",
       "    .dataframe thead tr:last-of-type th {\n",
       "        text-align: right;\n",
       "    }\n",
       "</style>\n",
       "<table border=\"1\" class=\"dataframe\">\n",
       "  <thead>\n",
       "    <tr>\n",
       "      <th></th>\n",
       "      <th colspan=\"21\" halign=\"left\">Valor_de_Fechamento</th>\n",
       "    </tr>\n",
       "    <tr>\n",
       "      <th>Sigla</th>\n",
       "      <th>ABCB4</th>\n",
       "      <th>BBDC3</th>\n",
       "      <th>BRSR6</th>\n",
       "      <th>CARD3</th>\n",
       "      <th>CIEL3</th>\n",
       "      <th>CSAN3</th>\n",
       "      <th>EGIE3</th>\n",
       "      <th>ENBR3</th>\n",
       "      <th>ESTC3</th>\n",
       "      <th>FESA4</th>\n",
       "      <th>...</th>\n",
       "      <th>MRVE3</th>\n",
       "      <th>PSSA3</th>\n",
       "      <th>PTBL3</th>\n",
       "      <th>SANB4</th>\n",
       "      <th>SAPR3</th>\n",
       "      <th>SAPR4</th>\n",
       "      <th>SMTO3</th>\n",
       "      <th>SULA11</th>\n",
       "      <th>TIMP3</th>\n",
       "      <th>TRPL4</th>\n",
       "    </tr>\n",
       "    <tr>\n",
       "      <th>Data</th>\n",
       "      <th></th>\n",
       "      <th></th>\n",
       "      <th></th>\n",
       "      <th></th>\n",
       "      <th></th>\n",
       "      <th></th>\n",
       "      <th></th>\n",
       "      <th></th>\n",
       "      <th></th>\n",
       "      <th></th>\n",
       "      <th></th>\n",
       "      <th></th>\n",
       "      <th></th>\n",
       "      <th></th>\n",
       "      <th></th>\n",
       "      <th></th>\n",
       "      <th></th>\n",
       "      <th></th>\n",
       "      <th></th>\n",
       "      <th></th>\n",
       "      <th></th>\n",
       "    </tr>\n",
       "  </thead>\n",
       "  <tbody>\n",
       "    <tr>\n",
       "      <th>2018-09-11</th>\n",
       "      <td>14.45</td>\n",
       "      <td>24.00</td>\n",
       "      <td>14.35</td>\n",
       "      <td>6.45</td>\n",
       "      <td>14.35</td>\n",
       "      <td>33.46</td>\n",
       "      <td>29.216</td>\n",
       "      <td>13.15</td>\n",
       "      <td>20.80</td>\n",
       "      <td>21.04</td>\n",
       "      <td>...</td>\n",
       "      <td>12.22</td>\n",
       "      <td>56.90</td>\n",
       "      <td>3.56</td>\n",
       "      <td>14.91</td>\n",
       "      <td>8.67</td>\n",
       "      <td>8.55</td>\n",
       "      <td>19.33</td>\n",
       "      <td>24.21</td>\n",
       "      <td>11.72</td>\n",
       "      <td>56.49</td>\n",
       "    </tr>\n",
       "    <tr>\n",
       "      <th>2018-09-12</th>\n",
       "      <td>14.35</td>\n",
       "      <td>24.08</td>\n",
       "      <td>14.58</td>\n",
       "      <td>6.35</td>\n",
       "      <td>14.50</td>\n",
       "      <td>33.87</td>\n",
       "      <td>29.040</td>\n",
       "      <td>12.95</td>\n",
       "      <td>20.69</td>\n",
       "      <td>21.43</td>\n",
       "      <td>...</td>\n",
       "      <td>12.48</td>\n",
       "      <td>55.61</td>\n",
       "      <td>3.59</td>\n",
       "      <td>15.36</td>\n",
       "      <td>8.71</td>\n",
       "      <td>8.68</td>\n",
       "      <td>19.58</td>\n",
       "      <td>24.00</td>\n",
       "      <td>12.00</td>\n",
       "      <td>56.00</td>\n",
       "    </tr>\n",
       "    <tr>\n",
       "      <th>2018-09-13</th>\n",
       "      <td>14.26</td>\n",
       "      <td>24.04</td>\n",
       "      <td>14.20</td>\n",
       "      <td>6.30</td>\n",
       "      <td>14.20</td>\n",
       "      <td>33.15</td>\n",
       "      <td>29.152</td>\n",
       "      <td>12.81</td>\n",
       "      <td>20.49</td>\n",
       "      <td>20.90</td>\n",
       "      <td>...</td>\n",
       "      <td>12.14</td>\n",
       "      <td>57.24</td>\n",
       "      <td>3.79</td>\n",
       "      <td>15.20</td>\n",
       "      <td>8.36</td>\n",
       "      <td>8.63</td>\n",
       "      <td>19.53</td>\n",
       "      <td>24.50</td>\n",
       "      <td>11.90</td>\n",
       "      <td>55.46</td>\n",
       "    </tr>\n",
       "    <tr>\n",
       "      <th>2018-09-14</th>\n",
       "      <td>14.32</td>\n",
       "      <td>24.29</td>\n",
       "      <td>14.00</td>\n",
       "      <td>6.29</td>\n",
       "      <td>14.10</td>\n",
       "      <td>33.43</td>\n",
       "      <td>28.928</td>\n",
       "      <td>12.80</td>\n",
       "      <td>21.05</td>\n",
       "      <td>20.55</td>\n",
       "      <td>...</td>\n",
       "      <td>12.15</td>\n",
       "      <td>57.44</td>\n",
       "      <td>3.89</td>\n",
       "      <td>15.41</td>\n",
       "      <td>8.03</td>\n",
       "      <td>8.56</td>\n",
       "      <td>19.15</td>\n",
       "      <td>25.10</td>\n",
       "      <td>11.75</td>\n",
       "      <td>55.55</td>\n",
       "    </tr>\n",
       "    <tr>\n",
       "      <th>2018-09-17</th>\n",
       "      <td>14.36</td>\n",
       "      <td>24.97</td>\n",
       "      <td>14.38</td>\n",
       "      <td>6.36</td>\n",
       "      <td>14.19</td>\n",
       "      <td>33.32</td>\n",
       "      <td>29.104</td>\n",
       "      <td>12.92</td>\n",
       "      <td>21.55</td>\n",
       "      <td>19.77</td>\n",
       "      <td>...</td>\n",
       "      <td>12.18</td>\n",
       "      <td>57.34</td>\n",
       "      <td>4.02</td>\n",
       "      <td>15.31</td>\n",
       "      <td>8.68</td>\n",
       "      <td>8.51</td>\n",
       "      <td>19.50</td>\n",
       "      <td>25.41</td>\n",
       "      <td>11.95</td>\n",
       "      <td>55.85</td>\n",
       "    </tr>\n",
       "  </tbody>\n",
       "</table>\n",
       "<p>5 rows × 28 columns</p>\n",
       "</div>"
      ],
      "text/plain": [
       "           Valor_de_Fechamento                                            \\\n",
       "Sigla                    ABCB4  BBDC3  BRSR6 CARD3  CIEL3  CSAN3   EGIE3   \n",
       "Data                                                                       \n",
       "2018-09-11               14.45  24.00  14.35  6.45  14.35  33.46  29.216   \n",
       "2018-09-12               14.35  24.08  14.58  6.35  14.50  33.87  29.040   \n",
       "2018-09-13               14.26  24.04  14.20  6.30  14.20  33.15  29.152   \n",
       "2018-09-14               14.32  24.29  14.00  6.29  14.10  33.43  28.928   \n",
       "2018-09-17               14.36  24.97  14.38  6.36  14.19  33.32  29.104   \n",
       "\n",
       "                                 ...                                           \\\n",
       "Sigla       ENBR3  ESTC3  FESA4  ...    MRVE3  PSSA3 PTBL3  SANB4 SAPR3 SAPR4   \n",
       "Data                             ...                                            \n",
       "2018-09-11  13.15  20.80  21.04  ...    12.22  56.90  3.56  14.91  8.67  8.55   \n",
       "2018-09-12  12.95  20.69  21.43  ...    12.48  55.61  3.59  15.36  8.71  8.68   \n",
       "2018-09-13  12.81  20.49  20.90  ...    12.14  57.24  3.79  15.20  8.36  8.63   \n",
       "2018-09-14  12.80  21.05  20.55  ...    12.15  57.44  3.89  15.41  8.03  8.56   \n",
       "2018-09-17  12.92  21.55  19.77  ...    12.18  57.34  4.02  15.31  8.68  8.51   \n",
       "\n",
       "                                        \n",
       "Sigla       SMTO3 SULA11  TIMP3  TRPL4  \n",
       "Data                                    \n",
       "2018-09-11  19.33  24.21  11.72  56.49  \n",
       "2018-09-12  19.58  24.00  12.00  56.00  \n",
       "2018-09-13  19.53  24.50  11.90  55.46  \n",
       "2018-09-14  19.15  25.10  11.75  55.55  \n",
       "2018-09-17  19.50  25.41  11.95  55.85  \n",
       "\n",
       "[5 rows x 28 columns]"
      ]
     },
     "execution_count": 6,
     "metadata": {},
     "output_type": "execute_result"
    }
   ],
   "source": [
    "df_0 = (raw_df.unstack()\n",
    "      .replace({0: np.NaN})\n",
    "      .fillna(method='ffill'))\n",
    "df = df_0.copy()\n",
    "df.head()"
   ]
  },
  {
   "cell_type": "code",
   "execution_count": 7,
   "metadata": {},
   "outputs": [],
   "source": [
    "# df.dropna(axis=1, how='all', inplace=True)\n",
    "# df.dropna(axis=0, how='any', inplace=True)\n",
    "# df.fillna(axis=1, value=0, inplace=True)"
   ]
  },
  {
   "cell_type": "code",
   "execution_count": 8,
   "metadata": {},
   "outputs": [],
   "source": [
    "# scaler = StandardScaler()\n",
    "scaler = MinMaxScaler(feature_range=(1, 5))\n",
    "df[df.columns] = scaler.fit_transform(df[df.columns])\n",
    "#df.head()"
   ]
  },
  {
   "cell_type": "code",
   "execution_count": 9,
   "metadata": {},
   "outputs": [],
   "source": [
    "# series = df.mean()\n",
    "# series2 = series[series > 0]\n",
    "# series2"
   ]
  },
  {
   "cell_type": "code",
   "execution_count": 10,
   "metadata": {},
   "outputs": [],
   "source": [
    "means = np.mean(df)\n",
    "# print(means)\n",
    "# variances = np.var(df)\n",
    "# print(variances)\n",
    "covariance_matrix = np.cov(df, rowvar=False)\n",
    "# print(covariance_matrix)"
   ]
  },
  {
   "cell_type": "code",
   "execution_count": 11,
   "metadata": {},
   "outputs": [],
   "source": [
    "def risk_profit(a):\n",
    "    return np.sqrt(np.dot(np.dot(a, covariance_matrix), a)), np.sum(np.multiply(a, means))"
   ]
  },
  {
   "cell_type": "markdown",
   "metadata": {},
   "source": [
    "### Função multi-objetivo\n",
    "A função f tentará minimizar a variancia da carteira e maximizar o seu retorno"
   ]
  },
  {
   "cell_type": "code",
   "execution_count": 12,
   "metadata": {},
   "outputs": [],
   "source": [
    "def f(x):\n",
    "    return np.dot(np.dot(x, covariance_matrix), x) / np.sum(np.multiply(x, means))"
   ]
  },
  {
   "cell_type": "code",
   "execution_count": 13,
   "metadata": {},
   "outputs": [
    {
     "name": "stdout",
     "output_type": "stream",
     "text": [
      "Optimization terminated successfully.    (Exit mode 0)\n",
      "            Current function value: 0.004324229544284497\n",
      "            Iterations: 50\n",
      "            Function evaluations: 1502\n",
      "            Gradient evaluations: 50\n"
     ]
    }
   ],
   "source": [
    "cons = [{'type': 'eq', 'fun': lambda x: np.sum(x) - 1.0}]\n",
    "n = df.shape[1]\n",
    "x0 = np.full(n, 1 / n)\n",
    "result = minimize(f, x0, constraints=cons, method='SLSQP', options={'disp': 'True', 'maxiter': 150})\n",
    "# result = minimize(f, x0, method='Powell', options={'disp': 'True', 'maxiter': 100})"
   ]
  },
  {
   "cell_type": "markdown",
   "metadata": {},
   "source": [
    "### Representação visual da carteira otimizada!"
   ]
  },
  {
   "cell_type": "code",
   "execution_count": 14,
   "metadata": {},
   "outputs": [
    {
     "name": "stdout",
     "output_type": "stream",
     "text": [
      "risk=0.11532156847737457, profit=3.075475994020642\n"
     ]
    },
    {
     "ename": "NameError",
     "evalue": "name 'sizes' is not defined",
     "output_type": "error",
     "traceback": [
      "\u001b[0;31m---------------------------------------------------------------------------\u001b[0m",
      "\u001b[0;31mNameError\u001b[0m                                 Traceback (most recent call last)",
      "\u001b[0;32m<ipython-input-14-dfa36d963cf3>\u001b[0m in \u001b[0;36m<module>\u001b[0;34m()\u001b[0m\n\u001b[1;32m      7\u001b[0m \u001b[0;34m\u001b[0m\u001b[0m\n\u001b[1;32m      8\u001b[0m     \u001b[0moptimal_values\u001b[0m \u001b[0;34m=\u001b[0m \u001b[0mresult\u001b[0m\u001b[0;34m.\u001b[0m\u001b[0mx\u001b[0m\u001b[0;34m\u001b[0m\u001b[0m\n\u001b[0;32m----> 9\u001b[0;31m     \u001b[0mprint\u001b[0m\u001b[0;34m(\u001b[0m\u001b[0msizes\u001b[0m\u001b[0;34m)\u001b[0m\u001b[0;34m\u001b[0m\u001b[0m\n\u001b[0m\u001b[1;32m     10\u001b[0m     \u001b[0;32mfor\u001b[0m \u001b[0mk\u001b[0m\u001b[0;34m,\u001b[0m \u001b[0mv\u001b[0m \u001b[0;32min\u001b[0m \u001b[0menumerate\u001b[0m\u001b[0;34m(\u001b[0m\u001b[0moptimal_values\u001b[0m\u001b[0;34m)\u001b[0m\u001b[0;34m:\u001b[0m\u001b[0;34m\u001b[0m\u001b[0m\n\u001b[1;32m     11\u001b[0m         \u001b[0mprint\u001b[0m\u001b[0;34m(\u001b[0m\u001b[0;34m'k = %s, v = %s'\u001b[0m \u001b[0;34m%\u001b[0m \u001b[0;34m(\u001b[0m\u001b[0mk\u001b[0m\u001b[0;34m,\u001b[0m \u001b[0mv\u001b[0m\u001b[0;34m)\u001b[0m\u001b[0;34m)\u001b[0m\u001b[0;34m\u001b[0m\u001b[0m\n",
      "\u001b[0;31mNameError\u001b[0m: name 'sizes' is not defined"
     ]
    }
   ],
   "source": [
    "optimal_values = []\n",
    "optimized = result.success\n",
    "if optimized:\n",
    "    risk, profit = risk_profit(result.x)\n",
    "    #print(result.x)\n",
    "    print(\"risk=%s, profit=%s\" % (risk, profit))\n",
    "    \n",
    "    optimal_values = result.x\n",
    "\n",
    "    for k, v in enumerate(optimal_values):\n",
    "        print('k = %s, v = %s' % (k, v))\n",
    "    nlargest = heapq.nlargest(10, enumerate(optimal_values), key=lambda x: x[1])\n",
    "    nlargest_indexes = [i for (i, j) in nlargest]\n",
    "    nlargest_values = [j for (i, j) in nlargest]\n",
    "    for nl in nlargest:\n",
    "        print(nl)\n",
    "    labels = [label for (_, label) in df.columns[nlargest_indexes].values]\n",
    "    fig1, ax1 = plt.subplots()\n",
    "    ax1.pie(nlargest_values, labels=labels, shadow=True, autopct='%1.0f%%')\n",
    "    ax1.axis('equal')\n",
    "    plt.show()\n",
    "    print(nlargest_values)\n",
    "    print(labels)\n",
    "else:\n",
    "    print('FUNCTION COULD NOT BE OPTIMIZED!')"
   ]
  },
  {
   "cell_type": "code",
   "execution_count": null,
   "metadata": {},
   "outputs": [],
   "source": [
    "df_0.head()"
   ]
  },
  {
   "cell_type": "code",
   "execution_count": null,
   "metadata": {},
   "outputs": [],
   "source": []
  }
 ],
 "metadata": {
  "kernelspec": {
   "display_name": "Python 3",
   "language": "python",
   "name": "python3"
  },
  "language_info": {
   "codemirror_mode": {
    "name": "ipython",
    "version": 3
   },
   "file_extension": ".py",
   "mimetype": "text/x-python",
   "name": "python",
   "nbconvert_exporter": "python",
   "pygments_lexer": "ipython3",
   "version": "3.6.5"
  }
 },
 "nbformat": 4,
 "nbformat_minor": 2
}
