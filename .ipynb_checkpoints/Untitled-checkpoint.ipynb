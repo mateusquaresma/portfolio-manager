{
 "cells": [
  {
   "cell_type": "code",
   "execution_count": 1,
   "metadata": {},
   "outputs": [],
   "source": [
    "import pandas as pd\n",
    "import numpy as np\n",
    "import requests\n",
    "import json"
   ]
  },
  {
   "cell_type": "code",
   "execution_count": 2,
   "metadata": {},
   "outputs": [],
   "source": [
    "def get_quotes(company):\n",
    "    company_quotes = []\n",
    "    response = requests.get(url % company)\n",
    "    content_data = json.loads(response.content)\n",
    "    try:\n",
    "        time_series = content_data['Time Series (Daily)']\n",
    "        for i in time_series.items():\n",
    "            date, quotes = i\n",
    "            company_quotes.append(quotes['4. close'])\n",
    "    except KeyError:\n",
    "        company_quotes = np.zeros(100)\n",
    "    print(len(company_quotes))\n",
    "    return (company, company_quotes[::-1])"
   ]
  },
  {
   "cell_type": "code",
   "execution_count": 3,
   "metadata": {},
   "outputs": [],
   "source": [
    "companies = [\"ABTT34.SA\",\"ABBV34.SA\",\"ABCB4.SA\",\"ACNB34.SA\",\"EALT3.SA\",\"EALT4.SA\",\"ADHM3.SA\",\"TIET3.SA\",\"TIET4.SA\",\"TIET11.SA\",\"AFLT3.SA\",\"ANDG3B.SA\",\"ANDG4B.SA\",\"CANT3B.SA\",\"CANT4B.SA\",\"AIGB34.SA\",\"ALEF3B.SA\",\"BRGE3.SA\",\"BRGE5.SA\",\"BRGE6.SA\",\"BRGE7.SA\",\"BRGE8.SA\",\"BRGE11.SA\",\"BRGE12.SA\",\"CRIV3.SA\",\"CRIV4.SA\",\"RPAD3.SA\",\"RPAD5.SA\",\"RPAD6.SA\",\"BRIV3.SA\",\"BRIV4.SA\",\"ALSC3.SA\",\"APTI3.SA\",\"APTI4.SA\",\"FRRN3B.SA\",\"FRRN5B.SA\",\"FRRN6B.SA\",\"AALR3.SA\",\"ALPA3.SA\",\"ALPA4.SA\",\"GOGL34.SA\",\"GOGL35.SA\",\"ALUP3.SA\",\"ALUP4.SA\",\"ALUP11.SA\",\"AMZO34.SA\",\"BAZA3.SA\",\"ABEV3.SA\",\"AALL34.SA\",\"AXPB34.SA\",\"AMGN34.SA\",\"CBEE3.SA\",\"ANIM3.SA\",\"AAPL34.SA\",\"ARMT34.SA\",\"ARNC34.SA\",\"ARZZ3.SA\",\"ATOM3.SA\",\"ATTB34.SA\",\"AVON34.SA\",\"AZEV3.SA\",\"AZEV4.SA\",\"AZUL4.SA\",\"BTOW3.SA\",\"BAHI3.SA\",\"BPAN4.SA\",\"BGIP3.SA\",\"BGIP4.SA\",\"BEES3.SA\",\"BEES4.SA\",\"BOAC34.SA\",\"BPAR3.SA\",\"BRSR3.SA\",\"BRSR5.SA\",\"BRSR6.SA\",\"BDLL3.SA\",\"BDLL4.SA\",\"BTTL3.SA\",\"BALM3.SA\",\"BALM4.SA\",\"BBSE3.SA\",\"BDRU11.SA\",\"BDRX11.SA\",\"BERK34.SA\",\"BBYY34.SA\",\"BETP3B.SA\",\"BMKS3.SA\",\"BIIB34.SA\",\"BIOM3.SA\",\"BSEV3.SA\",\"BLAK34.SA\",\"BONY34.SA\",\"BOEI34.SA\",\"BOBR3.SA\",\"BOBR4.SA\",\"BNPA3B.SA\",\"BOXP34.SA\",\"BBRK3.SA\",\"HCBR3.SA\",\"BRIN3.SA\",\"BRML3.SA\",\"BPHA3.SA\",\"BRPR3.SA\",\"BBDC3.SA\",\"BBDC4.SA\",\"BRAP3.SA\",\"BRAP4.SA\",\"BBAS3.SA\",\"BBAS12.SA\",\"BBAS11.SA\",\"AGRO3.SA\",\"BRKM3.SA\",\"BRKM5.SA\",\"BRKM6.SA\",\"BFRE11.SA\",\"BFRE12.SA\",\"BSLI3.SA\",\"BSLI4.SA\",\"BRFS3.SA\",\"BMYB34.SA\",\"BRQB3.SA\",\"BPAC3.SA\",\"BPAC5.SA\",\"BPAC11.SA\",\"CABI3B.SA\",\"CACO3B.SA\",\"CAIA3B.SA\",\"CAMB3.SA\",\"CAMB4.SA\",\"CAML3.SA\",\"CPTP3B.SA\",\"CRFB3.SA\",\"CASN3.SA\",\"CASN4.SA\",\"CATP34.SA\",\"CCRO3.SA\",\"CCXC3.SA\",\"CEBR3.SA\",\"CEBR5.SA\",\"CEBR6.SA\",\"CEDO3.SA\",\"CEDO4.SA\",\"CEED3.SA\",\"CEED4.SA\",\"EEEL3.SA\",\"EEEL4.SA\",\"CEGR3.SA\",\"CLSC3.SA\",\"CLSC4.SA\",\"CLGN34.SA\",\"GPAR3.SA\",\"CELP3.SA\",\"CELP5.SA\",\"CELP6.SA\",\"CELP7.SA\",\"CEPE3.SA\",\"CEPE5.SA\",\"CEPE6.SA\",\"RANI3.SA\",\"RANI4.SA\",\"ENMA3B.SA\",\"ENMA5B.SA\",\"ENMA6B.SA\",\"MAPT3.SA\",\"MAPT4.SA\",\"CMIG3.SA\",\"CMIG4.SA\",\"CESP3.SA\",\"CESP5.SA\",\"CESP6.SA\",\"CHKE34.SA\",\"CHVX34.SA\",\"HGTX3.SA\",\"CIEL3.SA\",\"CMSA3.SA\",\"CMSA4.SA\",\"CNSY3.SA\",\"CSCO34.SA\",\"CTGP34.SA\",\"COCA34.SA\",\"CEEB3.SA\",\"CEEB5.SA\",\"CEEB6.SA\",\"COCE3.SA\",\"COCE5.SA\",\"COCE6.SA\",\"CTSH34.SA\",\"COLG34.SA\",\"CMCS34.SA\",\"CGAS3.SA\",\"CGAS5.SA\",\"CRTE3B.SA\",\"CRTE5B.SA\",\"CALI3.SA\",\"CALI4.SA\",\"CSMG3.SA\",\"CPLE3.SA\",\"CPLE5.SA\",\"CPLE6.SA\",\"COPH34.SA\",\"CORR3.SA\",\"CORR4.SA\",\"RLOG3.SA\",\"CSAN3.SA\",\"CSRN3.SA\",\"CSRN5.SA\",\"CSRN6.SA\",\"COWC34.SA\",\"CTNM3.SA\",\"CTNM4.SA\",\"COTY34.SA\",\"CPFE3.SA\",\"CPRE3.SA\",\"CRDE3.SA\",\"CRPG5.SA\",\"CRPG6.SA\",\"CARD3.SA\",\"CTCA9.SA\",\"CTCA3.SA\",\"CVCB3.SA\",\"CVSH34.SA\",\"CCPR3.SA\",\"CYRE3.SA\",\"DHER34.SA\",\"DASA3.SA\",\"DEAI34.SA\",\"PNVL3.SA\",\"PNVL4.SA\",\"DIRR3.SA\",\"DOHL3.SA\",\"DOHL4.SA\",\"DMMO3.SA\",\"DTCY3.SA\",\"DTCY4.SA\",\"DUKB34.SA\",\"DTEX3.SA\",\"EBAY34.SA\",\"ECOR3.SA\",\"ELEK3.SA\",\"ELEK4.SA\",\"EKTR3.SA\",\"EKTR4.SA\",\"ELET3.SA\",\"ELET5.SA\",\"ELET6.SA\",\"ETRO3B.SA\",\"LIPR3.SA\",\"ELPL3.SA\",\"EMAE3.SA\",\"EMAE4.SA\",\"EMBR3.SA\",\"ECPR3.SA\",\"ECPR4.SA\",\"ENBR3.SA\",\"ENMT3.SA\",\"ENMT4.SA\",\"ENGI3.SA\",\"ENGI4.SA\",\"ENGI11.SA\",\"ENEV3.SA\",\"EGIE3.SA\",\"EQTL3.SA\",\"ESTC3.SA\",\"ESTR3.SA\",\"ESTR4.SA\",\"ETER3.SA\",\"EUCA3.SA\",\"EUCA4.SA\",\"EVEN3.SA\",\"BAUH3.SA\",\"BAUH4.SA\",\"ESRX34.SA\",\"EXXO34.SA\",\"EZTC3.SA\",\"FBOK34.SA\",\"FDXB34.SA\",\"FMXB34.SA\",\"VSPT3.SA\",\"VSPT4.SA\",\"FHER3.SA\",\"FESA3.SA\",\"FESA4.SA\",\"FBMC3.SA\",\"FBMC4.SA\",\"FIBR3.SA\",\"TAXA4.SA\",\"TAXA5.SA\",\"TAXA6.SA\",\"TAXA1.SA\",\"TAXA2.SA\",\"TAXA3.SA\",\"TAXA0.SA\",\"FNCN3.SA\",\"FSLR34.SA\",\"FLRY3.SA\",\"FDMO34.SA\",\"FJTA3.SA\",\"FJTA4.SA\",\"FRAS3.SA\",\"FCXO34.SA\",\"FTRT3B.SA\",\"GFSA3.SA\",\"OPGM3B.SA\",\"GPSI34.SA\",\"GEOO34.SA\",\"GDBR34.SA\",\"GMCO34.SA\",\"GSHP3.SA\",\"GEPA3.SA\",\"GEPA4.SA\",\"GOAU3.SA\",\"GOAU4.SA\",\"GGBR3.SA\",\"GGBR4.SA\",\"GILD34.SA\",\"GOLL4.SA\",\"GSGI34.SA\",\"GPRO34.SA\",\"GPIV33.SA\",\"GPCP3.SA\",\"CGRA3.SA\",\"CGRA4.SA\",\"GRND3.SA\",\"GUAR3.SA\",\"GUAR4.SA\",\"HBTS3.SA\",\"HBTS5.SA\",\"HBTS6.SA\",\"HAGA3.SA\",\"HAGA4.SA\",\"HALI34.SA\",\"HBOR3.SA\",\"HETA3.SA\",\"HETA4.SA\",\"HSHY34.SA\",\"HOME34.SA\",\"HONB34.SA\",\"HOOT3.SA\",\"HOOT4.SA\",\"HPQB34.SA\",\"HYPE3.SA\",\"IDIV11.SA\",\"IBMB34.SA\",\"IBOV11.SA\",\"IBRA11.SA\",\"IBXL11.SA\",\"IBXX11.SA\",\"ICO211.SA\",\"ICON11.SA\",\"IDNT3.SA\",\"IEEX11.SA\",\"IFNC11.SA\",\"IGBR3.SA\",\"IGNM11.SA\",\"IGCT11.SA\",\"IGCX11.SA\",\"IGTA3.SA\",\"PARD3.SA\",\"IMAT11.SA\",\"MEAL3.SA\",\"IMOB11.SA\",\"CATA3.SA\",\"CATA4.SA\",\"IFIX11.SA\",\"ROMI3.SA\",\"INDX11.SA\",\"IDVL3.SA\",\"IDVL4.SA\",\"INEP12.SA\",\"INEP11.SA\",\"INEP1.SA\",\"INEP3.SA\",\"INEP4.SA\",\"ITLC34.SA\",\"IVPR3B.SA\",\"IVPR4B.SA\",\"FIGE3.SA\",\"FIGE4.SA\",\"MYPK3.SA\",\"IRBR3.SA\",\"ISEE11.SA\",\"ITAG11.SA\",\"SQRM3.SA\",\"SQRM11.SA\",\"ITSA3.SA\",\"ITSA4.SA\",\"ITEC3.SA\",\"ITUB3.SA\",\"ITUB4.SA\",\"IVBX11.SA\",\"JBDU3.SA\",\"JBDU4.SA\",\"JBSS3.SA\",\"JCPC34.SA\",\"JHSF3.SA\",\"JFEN3.SA\",\"JNJB34.SA\",\"JOPA3.SA\",\"JOPA4.SA\",\"JPMC34.SA\",\"JSLG3.SA\",\"CTKA3.SA\",\"CTKA4.SA\",\"KEPL3.SA\",\"KMBB34.SA\",\"KLBN3.SA\",\"KLBN4.SA\",\"KLBN11.SA\",\"KHCB34.SA\",\"KROT3.SA\",\"LBRN34.SA\",\"LLIS3.SA\",\"LIGT3.SA\",\"LILY34.SA\",\"LINX3.SA\",\"LTEL3B.SA\",\"LTEL5B.SA\",\"LTEL11B.SA\",\"RENT3.SA\",\"LCAM3.SA\",\"LMTB34.SA\",\"LOGN3.SA\",\"LAME3.SA\",\"LAME4.SA\",\"LHER3.SA\",\"LHER4.SA\",\"AMAR3.SA\",\"LREN3.SA\",\"SPRT3B.SA\",\"LPSB3.SA\",\"LUPA3.SA\",\"MDIA3.SA\",\"MACY34.SA\",\"MSRO3.SA\",\"MGLU3.SA\",\"MAGG3.SA\",\"MGEL3.SA\",\"MGEL4.SA\",\"POMO3.SA\",\"POMO4.SA\",\"MRFG3.SA\",\"MSCD34.SA\",\"MCDC34.SA\",\"MDTC34.SA\",\"MSPA3.SA\",\"MSPA4.SA\",\"MEND3.SA\",\"MEND5.SA\",\"MEND6.SA\",\"MNZC3B.SA\",\"BMEB3.SA\",\"BMEB4.SA\",\"MERC3.SA\",\"MERC4.SA\",\"BMIN3.SA\",\"BMIN4.SA\",\"MRCK34.SA\",\"MTIG3.SA\",\"MTIG4.SA\",\"LEVE3.SA\",\"FRIO3.SA\",\"MTSA3.SA\",\"MTSA4.SA\",\"METB34.SA\",\"MSFT34.SA\",\"MLCX11.SA\",\"MILS3.SA\",\"MMAQ3.SA\",\"MMAQ4.SA\",\"BEEF9.SA\",\"BEEF3.SA\",\"MNPR3.SA\",\"MMXM3.SA\",\"MDLZ34.SA\",\"MOAR3.SA\",\"MSBR34.SA\",\"MOSC34.SA\",\"MOVI3.SA\",\"MRSA3B.SA\",\"MRSA5B.SA\",\"MRSA6B.SA\",\"MRVE3.SA\",\"MULT3.SA\",\"MPLU3.SA\",\"MNDL3.SA\",\"NAFG3.SA\",\"NAFG4.SA\",\"NATU3.SA\",\"NFLX34.SA\",\"NEWT3B.SA\",\"NIKE34.SA\",\"BNBR3.SA\",\"NORD3.SA\",\"NRTQ3.SA\",\"NUTR3.SA\",\"ODER3.SA\",\"ODER4.SA\",\"ODPV3.SA\",\"OGXP3.SA\",\"OIBR3.SA\",\"OIBR4.SA\",\"OMGE3.SA\",\"OPHE3B.SA\",\"ORCL34.SA\",\"OSXB3.SA\",\"OFSA3.SA\",\"PCAR3.SA\",\"PCAR4.SA\",\"PATI3.SA\",\"PATI4.SA\",\"PEAB3.SA\",\"PEAB4.SA\",\"PMAM3.SA\",\"BPAT33.SA\",\"PDGR3.SA\",\"PEPB34.SA\",\"RPMG3.SA\",\"BRDT3.SA\",\"PETR3.SA\",\"PETR4.SA\",\"PRIO3.SA\",\"PTNT3.SA\",\"PTNT4.SA\",\"PFIZ34.SA\",\"PGCO34.SA\",\"PINE3.SA\",\"PINE4.SA\",\"PLAS3.SA\",\"PPAR3.SA\",\"FRTA3.SA\",\"PSSA3.SA\",\"PTBL3.SA\",\"POSI3.SA\",\"PFRM3.SA\",\"PRMN3B.SA\",\"PRPT3B.SA\",\"QGEP3.SA\",\"QCOM34.SA\",\"QUAL3.SA\",\"QUSW3.SA\",\"RADL3.SA\",\"RAPT3.SA\",\"RAPT4.SA\",\"RCSL3.SA\",\"RCSL4.SA\",\"REDE3.SA\",\"RNEW3.SA\",\"RNEW4.SA\",\"RNEW11.SA\",\"RSUL3.SA\",\"RSUL4.SA\",\"RDNI3.SA\",\"ROST34.SA\",\"RSID3.SA\",\"RAIL3.SA\",\"SBSP3.SA\",\"SSFO34.SA\",\"SANC34.SA\",\"SAPR3.SA\",\"SAPR4.SA\",\"SNSY3.SA\",\"SNSY5.SA\",\"SNSY6.SA\",\"SANB3.SA\",\"SANB4.SA\",\"SANB11.SA\",\"CTSA3.SA\",\"CTSA4.SA\",\"CTSA8.SA\",\"STBP3.SA\",\"SCAR3.SA\",\"SMTO3.SA\",\"SLED3.SA\",\"SLED4.SA\",\"PSEG3.SA\",\"PSEG4.SA\",\"SLBG34.SA\",\"SHUL3.SA\",\"SHUL4.SA\",\"SCHW34.SA\",\"CSAB3.SA\",\"CSAB4.SA\",\"SLCT3B.SA\",\"SNSL3.SA\",\"SEER3.SA\",\"CSNA3.SA\",\"SSBR3.SA\",\"SLCE3.SA\",\"SMLL11.SA\",\"SMLS3.SA\",\"SEDU3.SA\",\"SOND3.SA\",\"SOND5.SA\",\"SOND6.SA\",\"SPRI3.SA\",\"SPRI5.SA\",\"SPRI6.SA\",\"SGPS3.SA\",\"SPRN34.SA\",\"AHEB3.SA\",\"AHEB5.SA\",\"AHEB6.SA\",\"SBUB34.SA\",\"STKF3.SA\",\"OPSE3B.SA\",\"OPTS3B.SA\",\"SULA3.SA\",\"SULA4.SA\",\"SULA11.SA\",\"NEMO3.SA\",\"NEMO5.SA\",\"NEMO6.SA\",\"SUZB3.SA\",\"TAEE3.SA\",\"TAEE4.SA\",\"TAEE11.SA\",\"TGTB34.SA\",\"TRPN3.SA\",\"TECN3.SA\",\"TCSA3.SA\",\"TCNO3.SA\",\"TCNO4.SA\",\"TOYB3.SA\",\"TOYB4.SA\",\"TGMA3.SA\",\"TEKA3.SA\",\"TEKA4.SA\",\"TKNO3.SA\",\"TKNO4.SA\",\"TELB3.SA\",\"TELB4.SA\",\"VIVT3.SA\",\"VIVT4.SA\",\"TEND3.SA\",\"TESA3.SA\",\"TSLA34.SA\",\"TXRX3.SA\",\"TXRX4.SA\",\"TEXA34.SA\",\"TMOS34.SA\",\"TIFF34.SA\",\"TIMP3.SA\",\"SHOW3.SA\",\"TOTS3.SA\",\"TRPL3.SA\",\"TRPL4.SA\",\"RIGG34.SA\",\"TRVC34.SA\",\"LUXM3.SA\",\"LUXM4.SA\",\"TRIS3.SA\",\"TPIS3.SA\",\"TUPY3.SA\",\"TWTR34.SA\",\"UBSG34.SA\",\"UGPA3.SA\",\"UCAS3.SA\",\"UPAC34.SA\",\"UNIP3.SA\",\"UNIP5.SA\",\"UNIP6.SA\",\"UTEC34.SA\",\"UPSS34.SA\",\"UPKP3B.SA\",\"USBC34.SA\",\"USSX34.SA\",\"USIM3.SA\",\"USIM5.SA\",\"USIM6.SA\",\"UTIL11.SA\",\"VALE3.SA\",\"VLOE34.SA\",\"VLID3.SA\",\"VERZ34.SA\",\"VVAR3.SA\",\"VISA34.SA\",\"VIVR1.SA\",\"VIVR3.SA\",\"VULC3.SA\",\"WALM34.SA\",\"DISB34.SA\",\"WEGE3.SA\",\"WFCO34.SA\",\"WUNI34.SA\",\"MWET3.SA\",\"MWET4.SA\",\"WHRL3.SA\",\"WHRL4.SA\",\"WSON33.SA\",\"WIZS3.SA\",\"XRXB34.SA\"]"
   ]
  },
  {
   "cell_type": "code",
   "execution_count": 4,
   "metadata": {},
   "outputs": [],
   "source": [
    "url = \"https://www.alphavantage.co/query?function=TIME_SERIES_DAILY&symbol=%s&apikey=K51ZJJVASBGYV9DD\""
   ]
  },
  {
   "cell_type": "code",
   "execution_count": 5,
   "metadata": {},
   "outputs": [
    {
     "name": "stdout",
     "output_type": "stream",
     "text": [
      "100\n",
      "100\n",
      "100\n",
      "100\n",
      "100\n",
      "100\n",
      "100\n",
      "100\n",
      "100\n",
      "100\n",
      "100\n",
      "100\n",
      "100\n",
      "100\n",
      "100\n"
     ]
    },
    {
     "ename": "KeyboardInterrupt",
     "evalue": "",
     "output_type": "error",
     "traceback": [
      "\u001b[0;31m---------------------------------------------------------------------------\u001b[0m",
      "\u001b[0;31mKeyboardInterrupt\u001b[0m                         Traceback (most recent call last)",
      "\u001b[0;32m<ipython-input-5-df78f8c2d401>\u001b[0m in \u001b[0;36m<module>\u001b[0;34m()\u001b[0m\n\u001b[0;32m----> 1\u001b[0;31m \u001b[0mall_company_quotes\u001b[0m \u001b[0;34m=\u001b[0m \u001b[0;34m[\u001b[0m\u001b[0mget_quotes\u001b[0m\u001b[0;34m(\u001b[0m\u001b[0mcompany_name\u001b[0m\u001b[0;34m)\u001b[0m \u001b[0;32mfor\u001b[0m \u001b[0mcompany_name\u001b[0m \u001b[0;32min\u001b[0m \u001b[0mcompanies\u001b[0m\u001b[0;34m]\u001b[0m\u001b[0;34m\u001b[0m\u001b[0m\n\u001b[0m",
      "\u001b[0;32m<ipython-input-5-df78f8c2d401>\u001b[0m in \u001b[0;36m<listcomp>\u001b[0;34m(.0)\u001b[0m\n\u001b[0;32m----> 1\u001b[0;31m \u001b[0mall_company_quotes\u001b[0m \u001b[0;34m=\u001b[0m \u001b[0;34m[\u001b[0m\u001b[0mget_quotes\u001b[0m\u001b[0;34m(\u001b[0m\u001b[0mcompany_name\u001b[0m\u001b[0;34m)\u001b[0m \u001b[0;32mfor\u001b[0m \u001b[0mcompany_name\u001b[0m \u001b[0;32min\u001b[0m \u001b[0mcompanies\u001b[0m\u001b[0;34m]\u001b[0m\u001b[0;34m\u001b[0m\u001b[0m\n\u001b[0m",
      "\u001b[0;32m<ipython-input-2-f4c6d9d88c9e>\u001b[0m in \u001b[0;36mget_quotes\u001b[0;34m(company)\u001b[0m\n\u001b[1;32m      1\u001b[0m \u001b[0;32mdef\u001b[0m \u001b[0mget_quotes\u001b[0m\u001b[0;34m(\u001b[0m\u001b[0mcompany\u001b[0m\u001b[0;34m)\u001b[0m\u001b[0;34m:\u001b[0m\u001b[0;34m\u001b[0m\u001b[0m\n\u001b[1;32m      2\u001b[0m     \u001b[0mcompany_quotes\u001b[0m \u001b[0;34m=\u001b[0m \u001b[0;34m[\u001b[0m\u001b[0;34m]\u001b[0m\u001b[0;34m\u001b[0m\u001b[0m\n\u001b[0;32m----> 3\u001b[0;31m     \u001b[0mresponse\u001b[0m \u001b[0;34m=\u001b[0m \u001b[0mrequests\u001b[0m\u001b[0;34m.\u001b[0m\u001b[0mget\u001b[0m\u001b[0;34m(\u001b[0m\u001b[0murl\u001b[0m \u001b[0;34m%\u001b[0m \u001b[0mcompany\u001b[0m\u001b[0;34m)\u001b[0m\u001b[0;34m\u001b[0m\u001b[0m\n\u001b[0m\u001b[1;32m      4\u001b[0m     \u001b[0mcontent_data\u001b[0m \u001b[0;34m=\u001b[0m \u001b[0mjson\u001b[0m\u001b[0;34m.\u001b[0m\u001b[0mloads\u001b[0m\u001b[0;34m(\u001b[0m\u001b[0mresponse\u001b[0m\u001b[0;34m.\u001b[0m\u001b[0mcontent\u001b[0m\u001b[0;34m)\u001b[0m\u001b[0;34m\u001b[0m\u001b[0m\n\u001b[1;32m      5\u001b[0m     \u001b[0;32mtry\u001b[0m\u001b[0;34m:\u001b[0m\u001b[0;34m\u001b[0m\u001b[0m\n",
      "\u001b[0;32m/usr/local/anaconda3/lib/python3.6/site-packages/requests/api.py\u001b[0m in \u001b[0;36mget\u001b[0;34m(url, params, **kwargs)\u001b[0m\n\u001b[1;32m     70\u001b[0m \u001b[0;34m\u001b[0m\u001b[0m\n\u001b[1;32m     71\u001b[0m     \u001b[0mkwargs\u001b[0m\u001b[0;34m.\u001b[0m\u001b[0msetdefault\u001b[0m\u001b[0;34m(\u001b[0m\u001b[0;34m'allow_redirects'\u001b[0m\u001b[0;34m,\u001b[0m \u001b[0;32mTrue\u001b[0m\u001b[0;34m)\u001b[0m\u001b[0;34m\u001b[0m\u001b[0m\n\u001b[0;32m---> 72\u001b[0;31m     \u001b[0;32mreturn\u001b[0m \u001b[0mrequest\u001b[0m\u001b[0;34m(\u001b[0m\u001b[0;34m'get'\u001b[0m\u001b[0;34m,\u001b[0m \u001b[0murl\u001b[0m\u001b[0;34m,\u001b[0m \u001b[0mparams\u001b[0m\u001b[0;34m=\u001b[0m\u001b[0mparams\u001b[0m\u001b[0;34m,\u001b[0m \u001b[0;34m**\u001b[0m\u001b[0mkwargs\u001b[0m\u001b[0;34m)\u001b[0m\u001b[0;34m\u001b[0m\u001b[0m\n\u001b[0m\u001b[1;32m     73\u001b[0m \u001b[0;34m\u001b[0m\u001b[0m\n\u001b[1;32m     74\u001b[0m \u001b[0;34m\u001b[0m\u001b[0m\n",
      "\u001b[0;32m/usr/local/anaconda3/lib/python3.6/site-packages/requests/api.py\u001b[0m in \u001b[0;36mrequest\u001b[0;34m(method, url, **kwargs)\u001b[0m\n\u001b[1;32m     56\u001b[0m     \u001b[0;31m# cases, and look like a memory leak in others.\u001b[0m\u001b[0;34m\u001b[0m\u001b[0;34m\u001b[0m\u001b[0m\n\u001b[1;32m     57\u001b[0m     \u001b[0;32mwith\u001b[0m \u001b[0msessions\u001b[0m\u001b[0;34m.\u001b[0m\u001b[0mSession\u001b[0m\u001b[0;34m(\u001b[0m\u001b[0;34m)\u001b[0m \u001b[0;32mas\u001b[0m \u001b[0msession\u001b[0m\u001b[0;34m:\u001b[0m\u001b[0;34m\u001b[0m\u001b[0m\n\u001b[0;32m---> 58\u001b[0;31m         \u001b[0;32mreturn\u001b[0m \u001b[0msession\u001b[0m\u001b[0;34m.\u001b[0m\u001b[0mrequest\u001b[0m\u001b[0;34m(\u001b[0m\u001b[0mmethod\u001b[0m\u001b[0;34m=\u001b[0m\u001b[0mmethod\u001b[0m\u001b[0;34m,\u001b[0m \u001b[0murl\u001b[0m\u001b[0;34m=\u001b[0m\u001b[0murl\u001b[0m\u001b[0;34m,\u001b[0m \u001b[0;34m**\u001b[0m\u001b[0mkwargs\u001b[0m\u001b[0;34m)\u001b[0m\u001b[0;34m\u001b[0m\u001b[0m\n\u001b[0m\u001b[1;32m     59\u001b[0m \u001b[0;34m\u001b[0m\u001b[0m\n\u001b[1;32m     60\u001b[0m \u001b[0;34m\u001b[0m\u001b[0m\n",
      "\u001b[0;32m/usr/local/anaconda3/lib/python3.6/site-packages/requests/sessions.py\u001b[0m in \u001b[0;36mrequest\u001b[0;34m(self, method, url, params, data, headers, cookies, files, auth, timeout, allow_redirects, proxies, hooks, stream, verify, cert, json)\u001b[0m\n\u001b[1;32m    506\u001b[0m         }\n\u001b[1;32m    507\u001b[0m         \u001b[0msend_kwargs\u001b[0m\u001b[0;34m.\u001b[0m\u001b[0mupdate\u001b[0m\u001b[0;34m(\u001b[0m\u001b[0msettings\u001b[0m\u001b[0;34m)\u001b[0m\u001b[0;34m\u001b[0m\u001b[0m\n\u001b[0;32m--> 508\u001b[0;31m         \u001b[0mresp\u001b[0m \u001b[0;34m=\u001b[0m \u001b[0mself\u001b[0m\u001b[0;34m.\u001b[0m\u001b[0msend\u001b[0m\u001b[0;34m(\u001b[0m\u001b[0mprep\u001b[0m\u001b[0;34m,\u001b[0m \u001b[0;34m**\u001b[0m\u001b[0msend_kwargs\u001b[0m\u001b[0;34m)\u001b[0m\u001b[0;34m\u001b[0m\u001b[0m\n\u001b[0m\u001b[1;32m    509\u001b[0m \u001b[0;34m\u001b[0m\u001b[0m\n\u001b[1;32m    510\u001b[0m         \u001b[0;32mreturn\u001b[0m \u001b[0mresp\u001b[0m\u001b[0;34m\u001b[0m\u001b[0m\n",
      "\u001b[0;32m/usr/local/anaconda3/lib/python3.6/site-packages/requests/sessions.py\u001b[0m in \u001b[0;36msend\u001b[0;34m(self, request, **kwargs)\u001b[0m\n\u001b[1;32m    616\u001b[0m \u001b[0;34m\u001b[0m\u001b[0m\n\u001b[1;32m    617\u001b[0m         \u001b[0;31m# Send the request\u001b[0m\u001b[0;34m\u001b[0m\u001b[0;34m\u001b[0m\u001b[0m\n\u001b[0;32m--> 618\u001b[0;31m         \u001b[0mr\u001b[0m \u001b[0;34m=\u001b[0m \u001b[0madapter\u001b[0m\u001b[0;34m.\u001b[0m\u001b[0msend\u001b[0m\u001b[0;34m(\u001b[0m\u001b[0mrequest\u001b[0m\u001b[0;34m,\u001b[0m \u001b[0;34m**\u001b[0m\u001b[0mkwargs\u001b[0m\u001b[0;34m)\u001b[0m\u001b[0;34m\u001b[0m\u001b[0m\n\u001b[0m\u001b[1;32m    619\u001b[0m \u001b[0;34m\u001b[0m\u001b[0m\n\u001b[1;32m    620\u001b[0m         \u001b[0;31m# Total elapsed time of the request (approximately)\u001b[0m\u001b[0;34m\u001b[0m\u001b[0;34m\u001b[0m\u001b[0m\n",
      "\u001b[0;32m/usr/local/anaconda3/lib/python3.6/site-packages/requests/adapters.py\u001b[0m in \u001b[0;36msend\u001b[0;34m(self, request, stream, timeout, verify, cert, proxies)\u001b[0m\n\u001b[1;32m    438\u001b[0m                     \u001b[0mdecode_content\u001b[0m\u001b[0;34m=\u001b[0m\u001b[0;32mFalse\u001b[0m\u001b[0;34m,\u001b[0m\u001b[0;34m\u001b[0m\u001b[0m\n\u001b[1;32m    439\u001b[0m                     \u001b[0mretries\u001b[0m\u001b[0;34m=\u001b[0m\u001b[0mself\u001b[0m\u001b[0;34m.\u001b[0m\u001b[0mmax_retries\u001b[0m\u001b[0;34m,\u001b[0m\u001b[0;34m\u001b[0m\u001b[0m\n\u001b[0;32m--> 440\u001b[0;31m                     \u001b[0mtimeout\u001b[0m\u001b[0;34m=\u001b[0m\u001b[0mtimeout\u001b[0m\u001b[0;34m\u001b[0m\u001b[0m\n\u001b[0m\u001b[1;32m    441\u001b[0m                 )\n\u001b[1;32m    442\u001b[0m \u001b[0;34m\u001b[0m\u001b[0m\n",
      "\u001b[0;32m/usr/local/anaconda3/lib/python3.6/site-packages/urllib3/connectionpool.py\u001b[0m in \u001b[0;36murlopen\u001b[0;34m(self, method, url, body, headers, retries, redirect, assert_same_host, timeout, pool_timeout, release_conn, chunked, body_pos, **response_kw)\u001b[0m\n\u001b[1;32m    599\u001b[0m                                                   \u001b[0mtimeout\u001b[0m\u001b[0;34m=\u001b[0m\u001b[0mtimeout_obj\u001b[0m\u001b[0;34m,\u001b[0m\u001b[0;34m\u001b[0m\u001b[0m\n\u001b[1;32m    600\u001b[0m                                                   \u001b[0mbody\u001b[0m\u001b[0;34m=\u001b[0m\u001b[0mbody\u001b[0m\u001b[0;34m,\u001b[0m \u001b[0mheaders\u001b[0m\u001b[0;34m=\u001b[0m\u001b[0mheaders\u001b[0m\u001b[0;34m,\u001b[0m\u001b[0;34m\u001b[0m\u001b[0m\n\u001b[0;32m--> 601\u001b[0;31m                                                   chunked=chunked)\n\u001b[0m\u001b[1;32m    602\u001b[0m \u001b[0;34m\u001b[0m\u001b[0m\n\u001b[1;32m    603\u001b[0m             \u001b[0;31m# If we're going to release the connection in ``finally:``, then\u001b[0m\u001b[0;34m\u001b[0m\u001b[0;34m\u001b[0m\u001b[0m\n",
      "\u001b[0;32m/usr/local/anaconda3/lib/python3.6/site-packages/urllib3/connectionpool.py\u001b[0m in \u001b[0;36m_make_request\u001b[0;34m(self, conn, method, url, timeout, chunked, **httplib_request_kw)\u001b[0m\n\u001b[1;32m    344\u001b[0m         \u001b[0;31m# Trigger any extra validation we need to do.\u001b[0m\u001b[0;34m\u001b[0m\u001b[0;34m\u001b[0m\u001b[0m\n\u001b[1;32m    345\u001b[0m         \u001b[0;32mtry\u001b[0m\u001b[0;34m:\u001b[0m\u001b[0;34m\u001b[0m\u001b[0m\n\u001b[0;32m--> 346\u001b[0;31m             \u001b[0mself\u001b[0m\u001b[0;34m.\u001b[0m\u001b[0m_validate_conn\u001b[0m\u001b[0;34m(\u001b[0m\u001b[0mconn\u001b[0m\u001b[0;34m)\u001b[0m\u001b[0;34m\u001b[0m\u001b[0m\n\u001b[0m\u001b[1;32m    347\u001b[0m         \u001b[0;32mexcept\u001b[0m \u001b[0;34m(\u001b[0m\u001b[0mSocketTimeout\u001b[0m\u001b[0;34m,\u001b[0m \u001b[0mBaseSSLError\u001b[0m\u001b[0;34m)\u001b[0m \u001b[0;32mas\u001b[0m \u001b[0me\u001b[0m\u001b[0;34m:\u001b[0m\u001b[0;34m\u001b[0m\u001b[0m\n\u001b[1;32m    348\u001b[0m             \u001b[0;31m# Py2 raises this as a BaseSSLError, Py3 raises it as socket timeout.\u001b[0m\u001b[0;34m\u001b[0m\u001b[0;34m\u001b[0m\u001b[0m\n",
      "\u001b[0;32m/usr/local/anaconda3/lib/python3.6/site-packages/urllib3/connectionpool.py\u001b[0m in \u001b[0;36m_validate_conn\u001b[0;34m(self, conn)\u001b[0m\n\u001b[1;32m    848\u001b[0m         \u001b[0;31m# Force connect early to allow us to validate the connection.\u001b[0m\u001b[0;34m\u001b[0m\u001b[0;34m\u001b[0m\u001b[0m\n\u001b[1;32m    849\u001b[0m         \u001b[0;32mif\u001b[0m \u001b[0;32mnot\u001b[0m \u001b[0mgetattr\u001b[0m\u001b[0;34m(\u001b[0m\u001b[0mconn\u001b[0m\u001b[0;34m,\u001b[0m \u001b[0;34m'sock'\u001b[0m\u001b[0;34m,\u001b[0m \u001b[0;32mNone\u001b[0m\u001b[0;34m)\u001b[0m\u001b[0;34m:\u001b[0m  \u001b[0;31m# AppEngine might not have  `.sock`\u001b[0m\u001b[0;34m\u001b[0m\u001b[0m\n\u001b[0;32m--> 850\u001b[0;31m             \u001b[0mconn\u001b[0m\u001b[0;34m.\u001b[0m\u001b[0mconnect\u001b[0m\u001b[0;34m(\u001b[0m\u001b[0;34m)\u001b[0m\u001b[0;34m\u001b[0m\u001b[0m\n\u001b[0m\u001b[1;32m    851\u001b[0m \u001b[0;34m\u001b[0m\u001b[0m\n\u001b[1;32m    852\u001b[0m         \u001b[0;32mif\u001b[0m \u001b[0;32mnot\u001b[0m \u001b[0mconn\u001b[0m\u001b[0;34m.\u001b[0m\u001b[0mis_verified\u001b[0m\u001b[0;34m:\u001b[0m\u001b[0;34m\u001b[0m\u001b[0m\n",
      "\u001b[0;32m/usr/local/anaconda3/lib/python3.6/site-packages/urllib3/connection.py\u001b[0m in \u001b[0;36mconnect\u001b[0;34m(self)\u001b[0m\n\u001b[1;32m    324\u001b[0m             \u001b[0mca_cert_dir\u001b[0m\u001b[0;34m=\u001b[0m\u001b[0mself\u001b[0m\u001b[0;34m.\u001b[0m\u001b[0mca_cert_dir\u001b[0m\u001b[0;34m,\u001b[0m\u001b[0;34m\u001b[0m\u001b[0m\n\u001b[1;32m    325\u001b[0m             \u001b[0mserver_hostname\u001b[0m\u001b[0;34m=\u001b[0m\u001b[0mhostname\u001b[0m\u001b[0;34m,\u001b[0m\u001b[0;34m\u001b[0m\u001b[0m\n\u001b[0;32m--> 326\u001b[0;31m             ssl_context=context)\n\u001b[0m\u001b[1;32m    327\u001b[0m \u001b[0;34m\u001b[0m\u001b[0m\n\u001b[1;32m    328\u001b[0m         \u001b[0;32mif\u001b[0m \u001b[0mself\u001b[0m\u001b[0;34m.\u001b[0m\u001b[0massert_fingerprint\u001b[0m\u001b[0;34m:\u001b[0m\u001b[0;34m\u001b[0m\u001b[0m\n",
      "\u001b[0;32m/usr/local/anaconda3/lib/python3.6/site-packages/urllib3/util/ssl_.py\u001b[0m in \u001b[0;36mssl_wrap_socket\u001b[0;34m(sock, keyfile, certfile, cert_reqs, ca_certs, server_hostname, ssl_version, ciphers, ssl_context, ca_cert_dir)\u001b[0m\n\u001b[1;32m    327\u001b[0m         \u001b[0mcontext\u001b[0m\u001b[0;34m.\u001b[0m\u001b[0mload_cert_chain\u001b[0m\u001b[0;34m(\u001b[0m\u001b[0mcertfile\u001b[0m\u001b[0;34m,\u001b[0m \u001b[0mkeyfile\u001b[0m\u001b[0;34m)\u001b[0m\u001b[0;34m\u001b[0m\u001b[0m\n\u001b[1;32m    328\u001b[0m     \u001b[0;32mif\u001b[0m \u001b[0mHAS_SNI\u001b[0m\u001b[0;34m:\u001b[0m  \u001b[0;31m# Platform-specific: OpenSSL with enabled SNI\u001b[0m\u001b[0;34m\u001b[0m\u001b[0m\n\u001b[0;32m--> 329\u001b[0;31m         \u001b[0;32mreturn\u001b[0m \u001b[0mcontext\u001b[0m\u001b[0;34m.\u001b[0m\u001b[0mwrap_socket\u001b[0m\u001b[0;34m(\u001b[0m\u001b[0msock\u001b[0m\u001b[0;34m,\u001b[0m \u001b[0mserver_hostname\u001b[0m\u001b[0;34m=\u001b[0m\u001b[0mserver_hostname\u001b[0m\u001b[0;34m)\u001b[0m\u001b[0;34m\u001b[0m\u001b[0m\n\u001b[0m\u001b[1;32m    330\u001b[0m \u001b[0;34m\u001b[0m\u001b[0m\n\u001b[1;32m    331\u001b[0m     warnings.warn(\n",
      "\u001b[0;32m/usr/local/anaconda3/lib/python3.6/site-packages/urllib3/contrib/pyopenssl.py\u001b[0m in \u001b[0;36mwrap_socket\u001b[0;34m(self, sock, server_side, do_handshake_on_connect, suppress_ragged_eofs, server_hostname)\u001b[0m\n\u001b[1;32m    439\u001b[0m         \u001b[0;32mwhile\u001b[0m \u001b[0;32mTrue\u001b[0m\u001b[0;34m:\u001b[0m\u001b[0;34m\u001b[0m\u001b[0m\n\u001b[1;32m    440\u001b[0m             \u001b[0;32mtry\u001b[0m\u001b[0;34m:\u001b[0m\u001b[0;34m\u001b[0m\u001b[0m\n\u001b[0;32m--> 441\u001b[0;31m                 \u001b[0mcnx\u001b[0m\u001b[0;34m.\u001b[0m\u001b[0mdo_handshake\u001b[0m\u001b[0;34m(\u001b[0m\u001b[0;34m)\u001b[0m\u001b[0;34m\u001b[0m\u001b[0m\n\u001b[0m\u001b[1;32m    442\u001b[0m             \u001b[0;32mexcept\u001b[0m \u001b[0mOpenSSL\u001b[0m\u001b[0;34m.\u001b[0m\u001b[0mSSL\u001b[0m\u001b[0;34m.\u001b[0m\u001b[0mWantReadError\u001b[0m\u001b[0;34m:\u001b[0m\u001b[0;34m\u001b[0m\u001b[0m\n\u001b[1;32m    443\u001b[0m                 \u001b[0mrd\u001b[0m \u001b[0;34m=\u001b[0m \u001b[0mutil\u001b[0m\u001b[0;34m.\u001b[0m\u001b[0mwait_for_read\u001b[0m\u001b[0;34m(\u001b[0m\u001b[0msock\u001b[0m\u001b[0;34m,\u001b[0m \u001b[0msock\u001b[0m\u001b[0;34m.\u001b[0m\u001b[0mgettimeout\u001b[0m\u001b[0;34m(\u001b[0m\u001b[0;34m)\u001b[0m\u001b[0;34m)\u001b[0m\u001b[0;34m\u001b[0m\u001b[0m\n",
      "\u001b[0;32m/usr/local/anaconda3/lib/python3.6/site-packages/OpenSSL/SSL.py\u001b[0m in \u001b[0;36mdo_handshake\u001b[0;34m(self)\u001b[0m\n\u001b[1;32m   1904\u001b[0m         \u001b[0;34m:\u001b[0m\u001b[0;32mreturn\u001b[0m\u001b[0;34m:\u001b[0m \u001b[0;32mNone\u001b[0m\u001b[0;34m.\u001b[0m\u001b[0;34m\u001b[0m\u001b[0m\n\u001b[1;32m   1905\u001b[0m         \"\"\"\n\u001b[0;32m-> 1906\u001b[0;31m         \u001b[0mresult\u001b[0m \u001b[0;34m=\u001b[0m \u001b[0m_lib\u001b[0m\u001b[0;34m.\u001b[0m\u001b[0mSSL_do_handshake\u001b[0m\u001b[0;34m(\u001b[0m\u001b[0mself\u001b[0m\u001b[0;34m.\u001b[0m\u001b[0m_ssl\u001b[0m\u001b[0;34m)\u001b[0m\u001b[0;34m\u001b[0m\u001b[0m\n\u001b[0m\u001b[1;32m   1907\u001b[0m         \u001b[0mself\u001b[0m\u001b[0;34m.\u001b[0m\u001b[0m_raise_ssl_error\u001b[0m\u001b[0;34m(\u001b[0m\u001b[0mself\u001b[0m\u001b[0;34m.\u001b[0m\u001b[0m_ssl\u001b[0m\u001b[0;34m,\u001b[0m \u001b[0mresult\u001b[0m\u001b[0;34m)\u001b[0m\u001b[0;34m\u001b[0m\u001b[0m\n\u001b[1;32m   1908\u001b[0m \u001b[0;34m\u001b[0m\u001b[0m\n",
      "\u001b[0;31mKeyboardInterrupt\u001b[0m: "
     ]
    }
   ],
   "source": [
    "all_company_quotes = [get_quotes(company_name) for company_name in companies]"
   ]
  },
  {
   "cell_type": "code",
   "execution_count": null,
   "metadata": {},
   "outputs": [],
   "source": [
    "df = pd.DataFrame(data = dict(all_company_quotes))"
   ]
  },
  {
   "cell_type": "code",
   "execution_count": null,
   "metadata": {},
   "outputs": [],
   "source": [
    "df.to_csv('data/company_quotes.csv')"
   ]
  },
  {
   "cell_type": "code",
   "execution_count": 6,
   "metadata": {},
   "outputs": [
    {
     "name": "stdout",
     "output_type": "stream",
     "text": [
      "100\n"
     ]
    }
   ],
   "source": [
    "print(len(np.zeros(100)))"
   ]
  },
  {
   "cell_type": "code",
   "execution_count": null,
   "metadata": {},
   "outputs": [],
   "source": []
  }
 ],
 "metadata": {
  "kernelspec": {
   "display_name": "Python 3",
   "language": "python",
   "name": "python3"
  },
  "language_info": {
   "codemirror_mode": {
    "name": "ipython",
    "version": 3
   },
   "file_extension": ".py",
   "mimetype": "text/x-python",
   "name": "python",
   "nbconvert_exporter": "python",
   "pygments_lexer": "ipython3",
   "version": "3.6.5"
  }
 },
 "nbformat": 4,
 "nbformat_minor": 2
}
