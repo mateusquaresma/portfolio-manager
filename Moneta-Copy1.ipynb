{
 "cells": [
  {
   "cell_type": "code",
   "execution_count": 1,
   "metadata": {},
   "outputs": [
    {
     "name": "stderr",
     "output_type": "stream",
     "text": [
      "/usr/local/anaconda3/lib/python3.6/site-packages/psycopg2/__init__.py:144: UserWarning: The psycopg2 wheel package will be renamed from release 2.8; in order to keep installing from binary please use \"pip install psycopg2-binary\" instead. For details see: <http://initd.org/psycopg/docs/install.html#binary-install-from-pypi>.\n",
      "  \"\"\")\n"
     ]
    }
   ],
   "source": [
    "import numpy as np\n",
    "import pandas as pd\n",
    "from scipy.optimize import minimize\n",
    "import matplotlib.pyplot as plt\n",
    "import heapq\n",
    "import psycopg2\n",
    "from sklearn.preprocessing import StandardScaler\n",
    "from sklearn.preprocessing import MinMaxScaler"
   ]
  },
  {
   "cell_type": "code",
   "execution_count": 2,
   "metadata": {},
   "outputs": [],
   "source": [
    "# query = \"select * from crosstab ( 'select dq.event_date, c.label, dq.close_value from company c left join daily_quote dq on c.id = dq.company_id where ibovespa_plus = true and (now() - dq.event_date) <= interval ''3 months'' order by 1, 2', 'select c.label from company c where ibovespa_plus = true order by 1') as ct ( event_date date, \\\"ABCB4\\\" numeric, \\\"ABEV3\\\" numeric, \\\"BBAS3\\\" numeric, \\\"BBDC3\\\" numeric, \\\"BBDC4\\\" numeric, \\\"BBSE3\\\" numeric, \\\"BRAP4\\\" numeric, \\\"BRFS3\\\" numeric, \\\"BRKM5\\\" numeric, \\\"BRML3\\\" numeric, \\\"BRSR6\\\" numeric, \\\"BTOW3\\\" numeric, \\\"CARD3\\\" numeric, \\\"CCRO3\\\" numeric, \\\"CIEL3\\\" numeric, \\\"CMIG4\\\" numeric, \\\"CPLE6\\\" numeric, \\\"CSAN3\\\" numeric, \\\"CSNA3\\\" numeric, \\\"CVCB3\\\" numeric, \\\"CYRE3\\\" numeric, \\\"ECOR3\\\" numeric, \\\"EGIE3\\\" numeric, \\\"ELET3\\\" numeric, \\\"ELET6\\\" numeric, \\\"EMBR3\\\" numeric, \\\"ENBR3\\\" numeric, \\\"EQTL3\\\" numeric, \\\"ESTC3\\\" numeric, \\\"FESA4\\\" numeric, \\\"FIBR3\\\" numeric, \\\"FLRY3\\\" numeric, \\\"FRAS3\\\" numeric, \\\"GGBR4\\\" numeric, \\\"GOAU4\\\" numeric, \\\"GOLL4\\\" numeric, \\\"GRND3\\\" numeric, \\\"HYPE3\\\" numeric, \\\"IGTA3\\\" numeric, \\\"ITSA3\\\" numeric, \\\"ITSA4\\\" numeric, \\\"ITUB3\\\" numeric, \\\"ITUB4\\\" numeric, \\\"JBSS3\\\" numeric, \\\"KLBN11\\\" numeric, \\\"KROT3\\\" numeric, \\\"LAME4\\\" numeric, \\\"LREN3\\\" numeric, \\\"MGLU3\\\" numeric, \\\"MPLU3\\\" numeric, \\\"MRFG3\\\" numeric, \\\"MRVE3\\\" numeric, \\\"MULT3\\\" numeric, \\\"NATU3\\\" numeric, \\\"PCAR4\\\" numeric, \\\"PETR3\\\" numeric, \\\"PETR4\\\" numeric, \\\"PSSA3\\\" numeric, \\\"PTBL3\\\" numeric, \\\"QUAL3\\\" numeric, \\\"RADL3\\\" numeric, \\\"RAIL3\\\" numeric, \\\"RENT3\\\" numeric, \\\"SANB11\\\" numeric, \\\"SANB4\\\" numeric, \\\"SAPR3\\\" numeric, \\\"SAPR4\\\" numeric, \\\"SBSP3\\\" numeric, \\\"SMLS3\\\" numeric, \\\"SMTO3\\\" numeric, \\\"SULA11\\\" numeric, \\\"SUZB3\\\" numeric, \\\"TAEE11\\\" numeric, \\\"TIMP3\\\" numeric, \\\"TRPL4\\\" numeric, \\\"UGPA3\\\" numeric, \\\"UNIP3\\\" numeric, \\\"UNIP6\\\" numeric, \\\"USIM5\\\" numeric, \\\"VALE3\\\" numeric, \\\"VIVT4\\\" numeric, \\\"VVAR3\\\" numeric, \\\"WEGE3\\\" numeric);\""
   ]
  },
  {
   "cell_type": "code",
   "execution_count": 3,
   "metadata": {},
   "outputs": [],
   "source": [
    "query = \"\"\" \n",
    "    select dq.event_date, c.label, dq.close_value\n",
    "    from company c\n",
    "    inner join daily_quote dq on c.id = dq.company_id\n",
    "    where alpha_6 = true \n",
    "    and (now() - dq.event_date) <= interval '3 months'\n",
    "    order by dq.event_date, c.label;\"\"\""
   ]
  },
  {
   "cell_type": "code",
   "execution_count": 4,
   "metadata": {},
   "outputs": [],
   "source": [
    "conn = psycopg2.connect(\n",
    "            database=\"postgres\",\n",
    "            user=\"postgres\",\n",
    "            connect_timeout=3,\n",
    "            options='-c statement_timeout=3000')\n",
    "raw_df = pd.read_sql(query, conn)\n",
    "# df.drop('event_date', axis=1, inplace=True)\n",
    "conn.close()"
   ]
  },
  {
   "cell_type": "code",
   "execution_count": 5,
   "metadata": {},
   "outputs": [],
   "source": [
    "raw_df.columns = ['Data', 'Sigla', 'Valor_de_Fechamento']\n",
    "raw_df.set_index(['Data', 'Sigla'], inplace=True)"
   ]
  },
  {
   "cell_type": "code",
   "execution_count": 6,
   "metadata": {},
   "outputs": [
    {
     "data": {
      "text/html": [
       "<div>\n",
       "<style scoped>\n",
       "    .dataframe tbody tr th:only-of-type {\n",
       "        vertical-align: middle;\n",
       "    }\n",
       "\n",
       "    .dataframe tbody tr th {\n",
       "        vertical-align: top;\n",
       "    }\n",
       "\n",
       "    .dataframe thead tr th {\n",
       "        text-align: left;\n",
       "    }\n",
       "\n",
       "    .dataframe thead tr:last-of-type th {\n",
       "        text-align: right;\n",
       "    }\n",
       "</style>\n",
       "<table border=\"1\" class=\"dataframe\">\n",
       "  <thead>\n",
       "    <tr>\n",
       "      <th></th>\n",
       "      <th colspan=\"21\" halign=\"left\">Valor_de_Fechamento</th>\n",
       "    </tr>\n",
       "    <tr>\n",
       "      <th>Sigla</th>\n",
       "      <th>ABCB4</th>\n",
       "      <th>BBDC3</th>\n",
       "      <th>BRSR6</th>\n",
       "      <th>CARD3</th>\n",
       "      <th>CIEL3</th>\n",
       "      <th>CSAN3</th>\n",
       "      <th>EGIE3</th>\n",
       "      <th>ENBR3</th>\n",
       "      <th>ESTC3</th>\n",
       "      <th>FESA4</th>\n",
       "      <th>...</th>\n",
       "      <th>MRVE3</th>\n",
       "      <th>PSSA3</th>\n",
       "      <th>PTBL3</th>\n",
       "      <th>SANB4</th>\n",
       "      <th>SAPR3</th>\n",
       "      <th>SAPR4</th>\n",
       "      <th>SMTO3</th>\n",
       "      <th>SULA11</th>\n",
       "      <th>TIMP3</th>\n",
       "      <th>TRPL4</th>\n",
       "    </tr>\n",
       "    <tr>\n",
       "      <th>Data</th>\n",
       "      <th></th>\n",
       "      <th></th>\n",
       "      <th></th>\n",
       "      <th></th>\n",
       "      <th></th>\n",
       "      <th></th>\n",
       "      <th></th>\n",
       "      <th></th>\n",
       "      <th></th>\n",
       "      <th></th>\n",
       "      <th></th>\n",
       "      <th></th>\n",
       "      <th></th>\n",
       "      <th></th>\n",
       "      <th></th>\n",
       "      <th></th>\n",
       "      <th></th>\n",
       "      <th></th>\n",
       "      <th></th>\n",
       "      <th></th>\n",
       "      <th></th>\n",
       "    </tr>\n",
       "  </thead>\n",
       "  <tbody>\n",
       "    <tr>\n",
       "      <th>2018-10-11</th>\n",
       "      <td>15.51</td>\n",
       "      <td>27.96</td>\n",
       "      <td>18.10</td>\n",
       "      <td>7.00</td>\n",
       "      <td>12.43</td>\n",
       "      <td>34.23</td>\n",
       "      <td>28.352</td>\n",
       "      <td>13.61</td>\n",
       "      <td>22.66</td>\n",
       "      <td>19.47</td>\n",
       "      <td>...</td>\n",
       "      <td>12.23</td>\n",
       "      <td>54.39</td>\n",
       "      <td>4.43</td>\n",
       "      <td>18.44</td>\n",
       "      <td>9.09</td>\n",
       "      <td>9.30</td>\n",
       "      <td>17.25</td>\n",
       "      <td>23.44</td>\n",
       "      <td>11.43</td>\n",
       "      <td>60.10</td>\n",
       "    </tr>\n",
       "    <tr>\n",
       "      <th>2018-10-15</th>\n",
       "      <td>15.37</td>\n",
       "      <td>28.25</td>\n",
       "      <td>18.36</td>\n",
       "      <td>7.16</td>\n",
       "      <td>12.30</td>\n",
       "      <td>33.55</td>\n",
       "      <td>28.744</td>\n",
       "      <td>13.92</td>\n",
       "      <td>21.32</td>\n",
       "      <td>19.32</td>\n",
       "      <td>...</td>\n",
       "      <td>12.71</td>\n",
       "      <td>54.67</td>\n",
       "      <td>4.35</td>\n",
       "      <td>18.52</td>\n",
       "      <td>9.33</td>\n",
       "      <td>9.40</td>\n",
       "      <td>17.27</td>\n",
       "      <td>23.66</td>\n",
       "      <td>11.29</td>\n",
       "      <td>61.15</td>\n",
       "    </tr>\n",
       "    <tr>\n",
       "      <th>2018-10-16</th>\n",
       "      <td>15.35</td>\n",
       "      <td>29.44</td>\n",
       "      <td>18.60</td>\n",
       "      <td>7.63</td>\n",
       "      <td>12.53</td>\n",
       "      <td>34.68</td>\n",
       "      <td>29.416</td>\n",
       "      <td>14.23</td>\n",
       "      <td>21.16</td>\n",
       "      <td>19.30</td>\n",
       "      <td>...</td>\n",
       "      <td>13.21</td>\n",
       "      <td>54.79</td>\n",
       "      <td>4.54</td>\n",
       "      <td>19.02</td>\n",
       "      <td>9.32</td>\n",
       "      <td>9.32</td>\n",
       "      <td>17.36</td>\n",
       "      <td>24.00</td>\n",
       "      <td>11.39</td>\n",
       "      <td>61.05</td>\n",
       "    </tr>\n",
       "    <tr>\n",
       "      <th>2018-10-17</th>\n",
       "      <td>15.50</td>\n",
       "      <td>29.45</td>\n",
       "      <td>18.88</td>\n",
       "      <td>7.60</td>\n",
       "      <td>12.70</td>\n",
       "      <td>35.35</td>\n",
       "      <td>29.808</td>\n",
       "      <td>14.03</td>\n",
       "      <td>21.81</td>\n",
       "      <td>19.41</td>\n",
       "      <td>...</td>\n",
       "      <td>12.93</td>\n",
       "      <td>53.65</td>\n",
       "      <td>4.54</td>\n",
       "      <td>19.60</td>\n",
       "      <td>9.55</td>\n",
       "      <td>9.42</td>\n",
       "      <td>18.32</td>\n",
       "      <td>24.09</td>\n",
       "      <td>11.43</td>\n",
       "      <td>60.79</td>\n",
       "    </tr>\n",
       "    <tr>\n",
       "      <th>2018-10-18</th>\n",
       "      <td>15.21</td>\n",
       "      <td>28.54</td>\n",
       "      <td>18.60</td>\n",
       "      <td>7.55</td>\n",
       "      <td>12.66</td>\n",
       "      <td>35.85</td>\n",
       "      <td>30.120</td>\n",
       "      <td>14.18</td>\n",
       "      <td>21.89</td>\n",
       "      <td>19.34</td>\n",
       "      <td>...</td>\n",
       "      <td>12.39</td>\n",
       "      <td>52.20</td>\n",
       "      <td>4.65</td>\n",
       "      <td>19.16</td>\n",
       "      <td>10.00</td>\n",
       "      <td>9.37</td>\n",
       "      <td>18.51</td>\n",
       "      <td>23.79</td>\n",
       "      <td>11.29</td>\n",
       "      <td>61.28</td>\n",
       "    </tr>\n",
       "  </tbody>\n",
       "</table>\n",
       "<p>5 rows × 28 columns</p>\n",
       "</div>"
      ],
      "text/plain": [
       "           Valor_de_Fechamento                                            \\\n",
       "Sigla                    ABCB4  BBDC3  BRSR6 CARD3  CIEL3  CSAN3   EGIE3   \n",
       "Data                                                                       \n",
       "2018-10-11               15.51  27.96  18.10  7.00  12.43  34.23  28.352   \n",
       "2018-10-15               15.37  28.25  18.36  7.16  12.30  33.55  28.744   \n",
       "2018-10-16               15.35  29.44  18.60  7.63  12.53  34.68  29.416   \n",
       "2018-10-17               15.50  29.45  18.88  7.60  12.70  35.35  29.808   \n",
       "2018-10-18               15.21  28.54  18.60  7.55  12.66  35.85  30.120   \n",
       "\n",
       "                                 ...                                      \\\n",
       "Sigla       ENBR3  ESTC3  FESA4  ...    MRVE3  PSSA3 PTBL3  SANB4  SAPR3   \n",
       "Data                             ...                                       \n",
       "2018-10-11  13.61  22.66  19.47  ...    12.23  54.39  4.43  18.44   9.09   \n",
       "2018-10-15  13.92  21.32  19.32  ...    12.71  54.67  4.35  18.52   9.33   \n",
       "2018-10-16  14.23  21.16  19.30  ...    13.21  54.79  4.54  19.02   9.32   \n",
       "2018-10-17  14.03  21.81  19.41  ...    12.93  53.65  4.54  19.60   9.55   \n",
       "2018-10-18  14.18  21.89  19.34  ...    12.39  52.20  4.65  19.16  10.00   \n",
       "\n",
       "                                              \n",
       "Sigla      SAPR4  SMTO3 SULA11  TIMP3  TRPL4  \n",
       "Data                                          \n",
       "2018-10-11  9.30  17.25  23.44  11.43  60.10  \n",
       "2018-10-15  9.40  17.27  23.66  11.29  61.15  \n",
       "2018-10-16  9.32  17.36  24.00  11.39  61.05  \n",
       "2018-10-17  9.42  18.32  24.09  11.43  60.79  \n",
       "2018-10-18  9.37  18.51  23.79  11.29  61.28  \n",
       "\n",
       "[5 rows x 28 columns]"
      ]
     },
     "execution_count": 6,
     "metadata": {},
     "output_type": "execute_result"
    }
   ],
   "source": [
    "df = (raw_df.unstack()\n",
    "      .replace({0: np.NaN})\n",
    "      .fillna(method='ffill'))\n",
    "df.head()"
   ]
  },
  {
   "cell_type": "code",
   "execution_count": 7,
   "metadata": {},
   "outputs": [],
   "source": [
    "# df.dropna(axis=1, how='all', inplace=True)\n",
    "# df.dropna(axis=0, how='any', inplace=True)\n",
    "# df.fillna(axis=1, value=0, inplace=True)"
   ]
  },
  {
   "cell_type": "code",
   "execution_count": 8,
   "metadata": {},
   "outputs": [],
   "source": [
    "# scaler = StandardScaler()\n",
    "scaler = MinMaxScaler(feature_range=(0, 1))\n",
    "df[df.columns] = scaler.fit_transform(df[df.columns])\n",
    "#df.head()"
   ]
  },
  {
   "cell_type": "code",
   "execution_count": 9,
   "metadata": {},
   "outputs": [],
   "source": [
    "# series = df.mean()\n",
    "# series2 = series[series > 0]\n",
    "# series2"
   ]
  },
  {
   "cell_type": "code",
   "execution_count": 10,
   "metadata": {},
   "outputs": [],
   "source": [
    "means = np.mean(df)\n",
    "# print(means)\n",
    "# variances = np.var(df)\n",
    "# print(variances)\n",
    "covariance_matrix = np.cov(df, rowvar=False)\n",
    "# print(covariance_matrix)"
   ]
  },
  {
   "cell_type": "code",
   "execution_count": 11,
   "metadata": {},
   "outputs": [],
   "source": [
    "def risk_profit(a):\n",
    "    return np.sqrt(np.dot(np.dot(a, covariance_matrix), a)), np.sum(np.multiply(a, means))"
   ]
  },
  {
   "cell_type": "markdown",
   "metadata": {},
   "source": [
    "### Função multi-objetivo\n",
    "A função f tentará minimizar a variancia da carteira e maximizar o seu retorno"
   ]
  },
  {
   "cell_type": "code",
   "execution_count": 12,
   "metadata": {},
   "outputs": [],
   "source": [
    "def f(x):\n",
    "    return np.dot(np.dot(x, covariance_matrix), x) / np.sum(np.multiply(x, means))"
   ]
  },
  {
   "cell_type": "code",
   "execution_count": 13,
   "metadata": {},
   "outputs": [
    {
     "name": "stdout",
     "output_type": "stream",
     "text": [
      "Optimization terminated successfully.    (Exit mode 0)\n",
      "            Current function value: 0.0020601432997729313\n",
      "            Iterations: 41\n",
      "            Function evaluations: 1231\n",
      "            Gradient evaluations: 41\n"
     ]
    }
   ],
   "source": [
    "cons = [{'type': 'eq', 'fun': lambda x: np.sum(x) - 1.0}]\n",
    "n = df.shape[1]\n",
    "x0 = np.full(n, 1 / n)\n",
    "result = minimize(f, x0, constraints=cons, method='SLSQP', options={'disp': 'True', 'maxiter': 150})\n",
    "# result = minimize(f, x0, method='Powell', options={'disp': 'True', 'maxiter': 100})"
   ]
  },
  {
   "cell_type": "markdown",
   "metadata": {},
   "source": [
    "### Representação visual da carteira otimizada!"
   ]
  },
  {
   "cell_type": "code",
   "execution_count": 14,
   "metadata": {},
   "outputs": [
    {
     "name": "stdout",
     "output_type": "stream",
     "text": [
      "risk=0.03326430214176047, profit=0.5371052572412267\n"
     ]
    },
    {
     "data": {
      "image/png": "[encoded data removed]",
      "text/plain": [
       "<Figure size 432x288 with 1 Axes>"
      ]
     },
     "metadata": {},
     "output_type": "display_data"
    },
    {
     "name": "stdout",
     "output_type": "stream",
     "text": [
      "[0.3588390846227007, 0.2895232605247134, 0.21817929199009592, 0.21250303670204168, 0.18282237239867327, 0.16775942574237618, 0.1548869615959823, 0.1491267162476055, 0.1412927927768063, 0.13533785436977247]\n",
      "['CIEL3', 'EGIE3', 'BRSR6', 'KROT3', 'GRND3', 'ITSA3', 'FRAS3', 'ENBR3', 'FESA4', 'SAPR4']\n"
     ]
    }
   ],
   "source": [
    "optimal_values = []\n",
    "optimized = result.success\n",
    "if optimized:\n",
    "    risk, profit = risk_profit(result.x)\n",
    "    #print(result.x)\n",
    "    print(\"risk=%s, profit=%s\" % (risk, profit))\n",
    "    optimal_values = result.x\n",
    "    \n",
    "    sizes = result.x\n",
    "    nlargest = heapq.nlargest(10, enumerate(sizes), key=lambda x: x[1])\n",
    "    nlargest_indexes = [i for (i, j) in nlargest]\n",
    "    nlargest_values = [j for (i, j) in nlargest]\n",
    "    labels = [label for (_, label) in df.columns[nlargest_indexes].values]\n",
    "    fig1, ax1 = plt.subplots()\n",
    "    ax1.pie(nlargest_values, labels=labels, shadow=True, autopct='%1.0f%%')\n",
    "    ax1.axis('equal')\n",
    "    plt.show()\n",
    "    print(nlargest_values)\n",
    "    print(labels)\n",
    "else:\n",
    "    print('FUNCTION COULD NOT BE OPTIMIZED!')"
   ]
  }
 ],
 "metadata": {
  "kernelspec": {
   "display_name": "Python 3",
   "language": "python",
   "name": "python3"
  },
  "language_info": {
   "codemirror_mode": {
    "name": "ipython",
    "version": 3
   },
   "file_extension": ".py",
   "mimetype": "text/x-python",
   "name": "python",
   "nbconvert_exporter": "python",
   "pygments_lexer": "ipython3",
   "version": "3.6.5"
  }
 },
 "nbformat": 4,
 "nbformat_minor": 2
}
