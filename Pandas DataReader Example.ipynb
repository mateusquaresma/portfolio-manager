{
 "cells": [
  {
   "cell_type": "code",
   "execution_count": 20,
   "metadata": {},
   "outputs": [],
   "source": [
    "import numpy as np\n",
    "import pandas as pd\n",
    "from pandas_datareader import data as wb"
   ]
  },
  {
   "cell_type": "code",
   "execution_count": 28,
   "metadata": {},
   "outputs": [
    {
     "data": {
      "text/html": [
       "<div>\n",
       "<style scoped>\n",
       "    .dataframe tbody tr th:only-of-type {\n",
       "        vertical-align: middle;\n",
       "    }\n",
       "\n",
       "    .dataframe tbody tr th {\n",
       "        vertical-align: top;\n",
       "    }\n",
       "\n",
       "    .dataframe thead th {\n",
       "        text-align: right;\n",
       "    }\n",
       "</style>\n",
       "<table border=\"1\" class=\"dataframe\">\n",
       "  <thead>\n",
       "    <tr style=\"text-align: right;\">\n",
       "      <th></th>\n",
       "      <th>High</th>\n",
       "      <th>Low</th>\n",
       "      <th>Open</th>\n",
       "      <th>Close</th>\n",
       "      <th>Volume</th>\n",
       "      <th>Adj Close</th>\n",
       "    </tr>\n",
       "    <tr>\n",
       "      <th>Date</th>\n",
       "      <th></th>\n",
       "      <th></th>\n",
       "      <th></th>\n",
       "      <th></th>\n",
       "      <th></th>\n",
       "      <th></th>\n",
       "    </tr>\n",
       "  </thead>\n",
       "  <tbody>\n",
       "    <tr>\n",
       "      <th>2019-03-01</th>\n",
       "      <td>15.3</td>\n",
       "      <td>14.82</td>\n",
       "      <td>15.15</td>\n",
       "      <td>14.97</td>\n",
       "      <td>43800.0</td>\n",
       "      <td>14.97</td>\n",
       "    </tr>\n",
       "    <tr>\n",
       "      <th>2019-03-01</th>\n",
       "      <td>15.3</td>\n",
       "      <td>14.82</td>\n",
       "      <td>15.15</td>\n",
       "      <td>14.97</td>\n",
       "      <td>43800.0</td>\n",
       "      <td>14.97</td>\n",
       "    </tr>\n",
       "  </tbody>\n",
       "</table>\n",
       "</div>"
      ],
      "text/plain": [
       "            High    Low   Open  Close   Volume  Adj Close\n",
       "Date                                                     \n",
       "2019-03-01  15.3  14.82  15.15  14.97  43800.0      14.97\n",
       "2019-03-01  15.3  14.82  15.15  14.97  43800.0      14.97"
      ]
     },
     "execution_count": 28,
     "metadata": {},
     "output_type": "execute_result"
    }
   ],
   "source": [
    "itsa3 = wb.DataReader('ITSA3.SA', data_source='yahoo', start='2019-03-01')\n",
    "itsa3"
   ]
  },
  {
   "cell_type": "code",
   "execution_count": 32,
   "metadata": {},
   "outputs": [
    {
     "name": "stdout",
     "output_type": "stream",
     "text": [
      "High            15.30\n",
      "Low             14.82\n",
      "Open            15.15\n",
      "Close           14.97\n",
      "Volume       43800.00\n",
      "Adj Close       14.97\n",
      "Name: 2019-03-01 00:00:00, dtype: float64\n",
      "2019-03-01 00:00:00\n",
      "High            15.30\n",
      "Low             14.82\n",
      "Open            15.15\n",
      "Close           14.97\n",
      "Volume       43800.00\n",
      "Adj Close       14.97\n",
      "Name: 2019-03-01 00:00:00, dtype: float64\n",
      "2019-03-01 00:00:00\n"
     ]
    }
   ],
   "source": [
    "row_count = itsa3.shape[0]\n",
    "for i in range(row_count):\n",
    "    print(itsa3.iloc[i, :])\n",
    "    print(itsa3.iloc[i, :].name)"
   ]
  },
  {
   "cell_type": "code",
   "execution_count": null,
   "metadata": {},
   "outputs": [],
   "source": []
  }
 ],
 "metadata": {
  "kernelspec": {
   "display_name": "Python 3",
   "language": "python",
   "name": "python3"
  },
  "language_info": {
   "codemirror_mode": {
    "name": "ipython",
    "version": 3
   },
   "file_extension": ".py",
   "mimetype": "text/x-python",
   "name": "python",
   "nbconvert_exporter": "python",
   "pygments_lexer": "ipython3",
   "version": "3.6.5"
  }
 },
 "nbformat": 4,
 "nbformat_minor": 2
}
